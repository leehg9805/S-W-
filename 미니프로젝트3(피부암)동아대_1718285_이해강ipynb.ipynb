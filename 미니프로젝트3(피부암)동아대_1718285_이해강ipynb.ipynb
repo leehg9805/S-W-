{
  "nbformat": 4,
  "nbformat_minor": 0,
  "metadata": {
    "colab": {
      "name": "미니프로젝트3(피부암)동아대 1718285 이해강ipynb",
      "provenance": [],
      "collapsed_sections": []
    },
    "kernelspec": {
      "name": "python3",
      "display_name": "Python 3"
    },
    "language_info": {
      "name": "python"
    },
    "accelerator": "GPU",
    "gpuClass": "standard"
  },
  "cells": [
    {
      "cell_type": "markdown",
      "source": [
        "# 1. 데이터 불러오기\n"
      ],
      "metadata": {
        "id": "B-Pu52M1C0Z4"
      }
    },
    {
      "cell_type": "code",
      "execution_count": 1,
      "metadata": {
        "id": "LrhcF231B_sO"
      },
      "outputs": [],
      "source": [
        "import pandas as pd\n",
        "import os\n",
        "import matplotlib.pyplot as plt\n",
        "import numpy as np\n",
        "import seaborn as sns\n",
        "import zipfile\n",
        "%matplotlib inline\n",
        "import matplotlib.pyplot as plt\n",
        "from glob import glob"
      ]
    },
    {
      "cell_type": "code",
      "source": [
        "os.environ['KAGGLE_USERNAME'] = 'morbaenoma'\n",
        "os.environ['KAGGLE_KEY'] = \"fcf85e125cea448d18703f912fa7a8a2\""
      ],
      "metadata": {
        "id": "sFh5nFhpDMq4"
      },
      "execution_count": 2,
      "outputs": []
    },
    {
      "cell_type": "code",
      "source": [
        "!kaggle datasets download -d kmader/skin-cancer-mnist-ham10000"
      ],
      "metadata": {
        "colab": {
          "base_uri": "https://localhost:8080/"
        },
        "id": "g4CWWO_-DTLQ",
        "outputId": "622c4bda-1f2f-4712-ce48-8794f4280e67"
      },
      "execution_count": 3,
      "outputs": [
        {
          "output_type": "stream",
          "name": "stdout",
          "text": [
            "Downloading skin-cancer-mnist-ham10000.zip to /content\n",
            "100% 5.19G/5.20G [00:35<00:00, 99.8MB/s]\n",
            "100% 5.20G/5.20G [00:35<00:00, 158MB/s] \n"
          ]
        }
      ]
    },
    {
      "cell_type": "code",
      "source": [
        "local_zip = '/content/skin-cancer-mnist-ham10000.zip'\n",
        "zip_ref = zipfile.ZipFile(local_zip, 'r')"
      ],
      "metadata": {
        "id": "8qTmOFIkDYhg"
      },
      "execution_count": 4,
      "outputs": []
    },
    {
      "cell_type": "code",
      "source": [
        "zip_ref.extractall('/content')\n",
        "zip_ref.close()"
      ],
      "metadata": {
        "id": "IX9_ewdJDevY"
      },
      "execution_count": 5,
      "outputs": []
    },
    {
      "cell_type": "code",
      "source": [
        "# 기본 경로를 설정해 줍니다.\n",
        "base_skin_dir = os.path.join('/content/')"
      ],
      "metadata": {
        "id": "SNDX1XVmDg6n"
      },
      "execution_count": 6,
      "outputs": []
    },
    {
      "cell_type": "code",
      "source": [
        "# 이미지 파일의 경로를 설정해 줍니다.\n",
        "imageid_path_dict = {os.path.splitext(os.path.basename(x))[0]: x\n",
        "                     for x in glob(os.path.join(base_skin_dir, '*', '*.jpg'))}"
      ],
      "metadata": {
        "id": "X4P6Iv1QDmo3"
      },
      "execution_count": 7,
      "outputs": []
    },
    {
      "cell_type": "code",
      "source": [
        "# HAM10000_metadata.csv를 일어 드리고\n",
        "# path 컬럼을 만들어서 image_id와 같은 이미지 파일의 주소를 넣어 줍니다.\n",
        "tile_df = pd.read_csv(os.path.join(base_skin_dir, 'HAM10000_metadata.csv'))\n",
        "tile_df['path'] = tile_df['image_id'].map(imageid_path_dict.get)\n",
        "tile_df.head()"
      ],
      "metadata": {
        "colab": {
          "base_uri": "https://localhost:8080/",
          "height": 206
        },
        "id": "9i09YbbkDqeY",
        "outputId": "722d3c2b-faf3-4d5c-be9b-9edaf603d9e1"
      },
      "execution_count": 8,
      "outputs": [
        {
          "output_type": "execute_result",
          "data": {
            "text/plain": [
              "     lesion_id      image_id   dx dx_type   age   sex localization  \\\n",
              "0  HAM_0000118  ISIC_0027419  bkl   histo  80.0  male        scalp   \n",
              "1  HAM_0000118  ISIC_0025030  bkl   histo  80.0  male        scalp   \n",
              "2  HAM_0002730  ISIC_0026769  bkl   histo  80.0  male        scalp   \n",
              "3  HAM_0002730  ISIC_0025661  bkl   histo  80.0  male        scalp   \n",
              "4  HAM_0001466  ISIC_0031633  bkl   histo  75.0  male          ear   \n",
              "\n",
              "                                               path  \n",
              "0  /content/ham10000_images_part_1/ISIC_0027419.jpg  \n",
              "1  /content/ham10000_images_part_1/ISIC_0025030.jpg  \n",
              "2  /content/ham10000_images_part_1/ISIC_0026769.jpg  \n",
              "3  /content/ham10000_images_part_1/ISIC_0025661.jpg  \n",
              "4  /content/ham10000_images_part_2/ISIC_0031633.jpg  "
            ],
            "text/html": [
              "\n",
              "  <div id=\"df-f58e1e19-c552-4e6b-97ec-e1b037ebf3e4\">\n",
              "    <div class=\"colab-df-container\">\n",
              "      <div>\n",
              "<style scoped>\n",
              "    .dataframe tbody tr th:only-of-type {\n",
              "        vertical-align: middle;\n",
              "    }\n",
              "\n",
              "    .dataframe tbody tr th {\n",
              "        vertical-align: top;\n",
              "    }\n",
              "\n",
              "    .dataframe thead th {\n",
              "        text-align: right;\n",
              "    }\n",
              "</style>\n",
              "<table border=\"1\" class=\"dataframe\">\n",
              "  <thead>\n",
              "    <tr style=\"text-align: right;\">\n",
              "      <th></th>\n",
              "      <th>lesion_id</th>\n",
              "      <th>image_id</th>\n",
              "      <th>dx</th>\n",
              "      <th>dx_type</th>\n",
              "      <th>age</th>\n",
              "      <th>sex</th>\n",
              "      <th>localization</th>\n",
              "      <th>path</th>\n",
              "    </tr>\n",
              "  </thead>\n",
              "  <tbody>\n",
              "    <tr>\n",
              "      <th>0</th>\n",
              "      <td>HAM_0000118</td>\n",
              "      <td>ISIC_0027419</td>\n",
              "      <td>bkl</td>\n",
              "      <td>histo</td>\n",
              "      <td>80.0</td>\n",
              "      <td>male</td>\n",
              "      <td>scalp</td>\n",
              "      <td>/content/ham10000_images_part_1/ISIC_0027419.jpg</td>\n",
              "    </tr>\n",
              "    <tr>\n",
              "      <th>1</th>\n",
              "      <td>HAM_0000118</td>\n",
              "      <td>ISIC_0025030</td>\n",
              "      <td>bkl</td>\n",
              "      <td>histo</td>\n",
              "      <td>80.0</td>\n",
              "      <td>male</td>\n",
              "      <td>scalp</td>\n",
              "      <td>/content/ham10000_images_part_1/ISIC_0025030.jpg</td>\n",
              "    </tr>\n",
              "    <tr>\n",
              "      <th>2</th>\n",
              "      <td>HAM_0002730</td>\n",
              "      <td>ISIC_0026769</td>\n",
              "      <td>bkl</td>\n",
              "      <td>histo</td>\n",
              "      <td>80.0</td>\n",
              "      <td>male</td>\n",
              "      <td>scalp</td>\n",
              "      <td>/content/ham10000_images_part_1/ISIC_0026769.jpg</td>\n",
              "    </tr>\n",
              "    <tr>\n",
              "      <th>3</th>\n",
              "      <td>HAM_0002730</td>\n",
              "      <td>ISIC_0025661</td>\n",
              "      <td>bkl</td>\n",
              "      <td>histo</td>\n",
              "      <td>80.0</td>\n",
              "      <td>male</td>\n",
              "      <td>scalp</td>\n",
              "      <td>/content/ham10000_images_part_1/ISIC_0025661.jpg</td>\n",
              "    </tr>\n",
              "    <tr>\n",
              "      <th>4</th>\n",
              "      <td>HAM_0001466</td>\n",
              "      <td>ISIC_0031633</td>\n",
              "      <td>bkl</td>\n",
              "      <td>histo</td>\n",
              "      <td>75.0</td>\n",
              "      <td>male</td>\n",
              "      <td>ear</td>\n",
              "      <td>/content/ham10000_images_part_2/ISIC_0031633.jpg</td>\n",
              "    </tr>\n",
              "  </tbody>\n",
              "</table>\n",
              "</div>\n",
              "      <button class=\"colab-df-convert\" onclick=\"convertToInteractive('df-f58e1e19-c552-4e6b-97ec-e1b037ebf3e4')\"\n",
              "              title=\"Convert this dataframe to an interactive table.\"\n",
              "              style=\"display:none;\">\n",
              "        \n",
              "  <svg xmlns=\"http://www.w3.org/2000/svg\" height=\"24px\"viewBox=\"0 0 24 24\"\n",
              "       width=\"24px\">\n",
              "    <path d=\"M0 0h24v24H0V0z\" fill=\"none\"/>\n",
              "    <path d=\"M18.56 5.44l.94 2.06.94-2.06 2.06-.94-2.06-.94-.94-2.06-.94 2.06-2.06.94zm-11 1L8.5 8.5l.94-2.06 2.06-.94-2.06-.94L8.5 2.5l-.94 2.06-2.06.94zm10 10l.94 2.06.94-2.06 2.06-.94-2.06-.94-.94-2.06-.94 2.06-2.06.94z\"/><path d=\"M17.41 7.96l-1.37-1.37c-.4-.4-.92-.59-1.43-.59-.52 0-1.04.2-1.43.59L10.3 9.45l-7.72 7.72c-.78.78-.78 2.05 0 2.83L4 21.41c.39.39.9.59 1.41.59.51 0 1.02-.2 1.41-.59l7.78-7.78 2.81-2.81c.8-.78.8-2.07 0-2.86zM5.41 20L4 18.59l7.72-7.72 1.47 1.35L5.41 20z\"/>\n",
              "  </svg>\n",
              "      </button>\n",
              "      \n",
              "  <style>\n",
              "    .colab-df-container {\n",
              "      display:flex;\n",
              "      flex-wrap:wrap;\n",
              "      gap: 12px;\n",
              "    }\n",
              "\n",
              "    .colab-df-convert {\n",
              "      background-color: #E8F0FE;\n",
              "      border: none;\n",
              "      border-radius: 50%;\n",
              "      cursor: pointer;\n",
              "      display: none;\n",
              "      fill: #1967D2;\n",
              "      height: 32px;\n",
              "      padding: 0 0 0 0;\n",
              "      width: 32px;\n",
              "    }\n",
              "\n",
              "    .colab-df-convert:hover {\n",
              "      background-color: #E2EBFA;\n",
              "      box-shadow: 0px 1px 2px rgba(60, 64, 67, 0.3), 0px 1px 3px 1px rgba(60, 64, 67, 0.15);\n",
              "      fill: #174EA6;\n",
              "    }\n",
              "\n",
              "    [theme=dark] .colab-df-convert {\n",
              "      background-color: #3B4455;\n",
              "      fill: #D2E3FC;\n",
              "    }\n",
              "\n",
              "    [theme=dark] .colab-df-convert:hover {\n",
              "      background-color: #434B5C;\n",
              "      box-shadow: 0px 1px 3px 1px rgba(0, 0, 0, 0.15);\n",
              "      filter: drop-shadow(0px 1px 2px rgba(0, 0, 0, 0.3));\n",
              "      fill: #FFFFFF;\n",
              "    }\n",
              "  </style>\n",
              "\n",
              "      <script>\n",
              "        const buttonEl =\n",
              "          document.querySelector('#df-f58e1e19-c552-4e6b-97ec-e1b037ebf3e4 button.colab-df-convert');\n",
              "        buttonEl.style.display =\n",
              "          google.colab.kernel.accessAllowed ? 'block' : 'none';\n",
              "\n",
              "        async function convertToInteractive(key) {\n",
              "          const element = document.querySelector('#df-f58e1e19-c552-4e6b-97ec-e1b037ebf3e4');\n",
              "          const dataTable =\n",
              "            await google.colab.kernel.invokeFunction('convertToInteractive',\n",
              "                                                     [key], {});\n",
              "          if (!dataTable) return;\n",
              "\n",
              "          const docLinkHtml = 'Like what you see? Visit the ' +\n",
              "            '<a target=\"_blank\" href=https://colab.research.google.com/notebooks/data_table.ipynb>data table notebook</a>'\n",
              "            + ' to learn more about interactive tables.';\n",
              "          element.innerHTML = '';\n",
              "          dataTable['output_type'] = 'display_data';\n",
              "          await google.colab.output.renderOutput(dataTable, element);\n",
              "          const docLink = document.createElement('div');\n",
              "          docLink.innerHTML = docLinkHtml;\n",
              "          element.appendChild(docLink);\n",
              "        }\n",
              "      </script>\n",
              "    </div>\n",
              "  </div>\n",
              "  "
            ]
          },
          "metadata": {},
          "execution_count": 8
        }
      ]
    },
    {
      "cell_type": "markdown",
      "source": [
        "# 2. 데이터 전처리"
      ],
      "metadata": {
        "id": "oCGEZ1mSN-lu"
      }
    },
    {
      "cell_type": "code",
      "source": [
        "# 사용하지 않는 데이터의 컬럼을 전부 삭제 시킵니다.\n",
        "tile_df.drop(['lesion_id','image_id', 'dx_type', 'age', 'sex','localization'], axis=1, inplace=True)"
      ],
      "metadata": {
        "id": "tV0JW-7aYoWH"
      },
      "execution_count": 9,
      "outputs": []
    },
    {
      "cell_type": "code",
      "source": [
        "tile_df.columns"
      ],
      "metadata": {
        "colab": {
          "base_uri": "https://localhost:8080/"
        },
        "id": "wmTvzpP8D6ZA",
        "outputId": "9c6ce228-1088-4ca5-c6ca-f41a5822b95e"
      },
      "execution_count": 10,
      "outputs": [
        {
          "output_type": "execute_result",
          "data": {
            "text/plain": [
              "Index(['dx', 'path'], dtype='object')"
            ]
          },
          "metadata": {},
          "execution_count": 10
        }
      ]
    },
    {
      "cell_type": "code",
      "source": [
        "# dx를 원핫인코딩을 해줍니다.\n",
        "one_df = tile_df['dx']\n",
        "one_df = pd.get_dummies(one_df)\n",
        "one_df.head()"
      ],
      "metadata": {
        "colab": {
          "base_uri": "https://localhost:8080/",
          "height": 206
        },
        "id": "BgPj0uX8Yyp_",
        "outputId": "8eda0a07-6f9d-41fe-fe33-31308879d6df"
      },
      "execution_count": 11,
      "outputs": [
        {
          "output_type": "execute_result",
          "data": {
            "text/plain": [
              "   akiec  bcc  bkl  df  mel  nv  vasc\n",
              "0      0    0    1   0    0   0     0\n",
              "1      0    0    1   0    0   0     0\n",
              "2      0    0    1   0    0   0     0\n",
              "3      0    0    1   0    0   0     0\n",
              "4      0    0    1   0    0   0     0"
            ],
            "text/html": [
              "\n",
              "  <div id=\"df-9be3d439-7b6b-4f32-ade7-93469e8dcaed\">\n",
              "    <div class=\"colab-df-container\">\n",
              "      <div>\n",
              "<style scoped>\n",
              "    .dataframe tbody tr th:only-of-type {\n",
              "        vertical-align: middle;\n",
              "    }\n",
              "\n",
              "    .dataframe tbody tr th {\n",
              "        vertical-align: top;\n",
              "    }\n",
              "\n",
              "    .dataframe thead th {\n",
              "        text-align: right;\n",
              "    }\n",
              "</style>\n",
              "<table border=\"1\" class=\"dataframe\">\n",
              "  <thead>\n",
              "    <tr style=\"text-align: right;\">\n",
              "      <th></th>\n",
              "      <th>akiec</th>\n",
              "      <th>bcc</th>\n",
              "      <th>bkl</th>\n",
              "      <th>df</th>\n",
              "      <th>mel</th>\n",
              "      <th>nv</th>\n",
              "      <th>vasc</th>\n",
              "    </tr>\n",
              "  </thead>\n",
              "  <tbody>\n",
              "    <tr>\n",
              "      <th>0</th>\n",
              "      <td>0</td>\n",
              "      <td>0</td>\n",
              "      <td>1</td>\n",
              "      <td>0</td>\n",
              "      <td>0</td>\n",
              "      <td>0</td>\n",
              "      <td>0</td>\n",
              "    </tr>\n",
              "    <tr>\n",
              "      <th>1</th>\n",
              "      <td>0</td>\n",
              "      <td>0</td>\n",
              "      <td>1</td>\n",
              "      <td>0</td>\n",
              "      <td>0</td>\n",
              "      <td>0</td>\n",
              "      <td>0</td>\n",
              "    </tr>\n",
              "    <tr>\n",
              "      <th>2</th>\n",
              "      <td>0</td>\n",
              "      <td>0</td>\n",
              "      <td>1</td>\n",
              "      <td>0</td>\n",
              "      <td>0</td>\n",
              "      <td>0</td>\n",
              "      <td>0</td>\n",
              "    </tr>\n",
              "    <tr>\n",
              "      <th>3</th>\n",
              "      <td>0</td>\n",
              "      <td>0</td>\n",
              "      <td>1</td>\n",
              "      <td>0</td>\n",
              "      <td>0</td>\n",
              "      <td>0</td>\n",
              "      <td>0</td>\n",
              "    </tr>\n",
              "    <tr>\n",
              "      <th>4</th>\n",
              "      <td>0</td>\n",
              "      <td>0</td>\n",
              "      <td>1</td>\n",
              "      <td>0</td>\n",
              "      <td>0</td>\n",
              "      <td>0</td>\n",
              "      <td>0</td>\n",
              "    </tr>\n",
              "  </tbody>\n",
              "</table>\n",
              "</div>\n",
              "      <button class=\"colab-df-convert\" onclick=\"convertToInteractive('df-9be3d439-7b6b-4f32-ade7-93469e8dcaed')\"\n",
              "              title=\"Convert this dataframe to an interactive table.\"\n",
              "              style=\"display:none;\">\n",
              "        \n",
              "  <svg xmlns=\"http://www.w3.org/2000/svg\" height=\"24px\"viewBox=\"0 0 24 24\"\n",
              "       width=\"24px\">\n",
              "    <path d=\"M0 0h24v24H0V0z\" fill=\"none\"/>\n",
              "    <path d=\"M18.56 5.44l.94 2.06.94-2.06 2.06-.94-2.06-.94-.94-2.06-.94 2.06-2.06.94zm-11 1L8.5 8.5l.94-2.06 2.06-.94-2.06-.94L8.5 2.5l-.94 2.06-2.06.94zm10 10l.94 2.06.94-2.06 2.06-.94-2.06-.94-.94-2.06-.94 2.06-2.06.94z\"/><path d=\"M17.41 7.96l-1.37-1.37c-.4-.4-.92-.59-1.43-.59-.52 0-1.04.2-1.43.59L10.3 9.45l-7.72 7.72c-.78.78-.78 2.05 0 2.83L4 21.41c.39.39.9.59 1.41.59.51 0 1.02-.2 1.41-.59l7.78-7.78 2.81-2.81c.8-.78.8-2.07 0-2.86zM5.41 20L4 18.59l7.72-7.72 1.47 1.35L5.41 20z\"/>\n",
              "  </svg>\n",
              "      </button>\n",
              "      \n",
              "  <style>\n",
              "    .colab-df-container {\n",
              "      display:flex;\n",
              "      flex-wrap:wrap;\n",
              "      gap: 12px;\n",
              "    }\n",
              "\n",
              "    .colab-df-convert {\n",
              "      background-color: #E8F0FE;\n",
              "      border: none;\n",
              "      border-radius: 50%;\n",
              "      cursor: pointer;\n",
              "      display: none;\n",
              "      fill: #1967D2;\n",
              "      height: 32px;\n",
              "      padding: 0 0 0 0;\n",
              "      width: 32px;\n",
              "    }\n",
              "\n",
              "    .colab-df-convert:hover {\n",
              "      background-color: #E2EBFA;\n",
              "      box-shadow: 0px 1px 2px rgba(60, 64, 67, 0.3), 0px 1px 3px 1px rgba(60, 64, 67, 0.15);\n",
              "      fill: #174EA6;\n",
              "    }\n",
              "\n",
              "    [theme=dark] .colab-df-convert {\n",
              "      background-color: #3B4455;\n",
              "      fill: #D2E3FC;\n",
              "    }\n",
              "\n",
              "    [theme=dark] .colab-df-convert:hover {\n",
              "      background-color: #434B5C;\n",
              "      box-shadow: 0px 1px 3px 1px rgba(0, 0, 0, 0.15);\n",
              "      filter: drop-shadow(0px 1px 2px rgba(0, 0, 0, 0.3));\n",
              "      fill: #FFFFFF;\n",
              "    }\n",
              "  </style>\n",
              "\n",
              "      <script>\n",
              "        const buttonEl =\n",
              "          document.querySelector('#df-9be3d439-7b6b-4f32-ade7-93469e8dcaed button.colab-df-convert');\n",
              "        buttonEl.style.display =\n",
              "          google.colab.kernel.accessAllowed ? 'block' : 'none';\n",
              "\n",
              "        async function convertToInteractive(key) {\n",
              "          const element = document.querySelector('#df-9be3d439-7b6b-4f32-ade7-93469e8dcaed');\n",
              "          const dataTable =\n",
              "            await google.colab.kernel.invokeFunction('convertToInteractive',\n",
              "                                                     [key], {});\n",
              "          if (!dataTable) return;\n",
              "\n",
              "          const docLinkHtml = 'Like what you see? Visit the ' +\n",
              "            '<a target=\"_blank\" href=https://colab.research.google.com/notebooks/data_table.ipynb>data table notebook</a>'\n",
              "            + ' to learn more about interactive tables.';\n",
              "          element.innerHTML = '';\n",
              "          dataTable['output_type'] = 'display_data';\n",
              "          await google.colab.output.renderOutput(dataTable, element);\n",
              "          const docLink = document.createElement('div');\n",
              "          docLink.innerHTML = docLinkHtml;\n",
              "          element.appendChild(docLink);\n",
              "        }\n",
              "      </script>\n",
              "    </div>\n",
              "  </div>\n",
              "  "
            ]
          },
          "metadata": {},
          "execution_count": 11
        }
      ]
    },
    {
      "cell_type": "code",
      "source": [
        "one_df=one_df.astype(np.float32)"
      ],
      "metadata": {
        "id": "Go6hmqDcoAG2"
      },
      "execution_count": 12,
      "outputs": []
    },
    {
      "cell_type": "code",
      "source": [
        "one_df.info()"
      ],
      "metadata": {
        "colab": {
          "base_uri": "https://localhost:8080/"
        },
        "id": "RN3RmHgHoGdW",
        "outputId": "984e449a-e39b-410e-93df-62396fc0b8b8"
      },
      "execution_count": 13,
      "outputs": [
        {
          "output_type": "stream",
          "name": "stdout",
          "text": [
            "<class 'pandas.core.frame.DataFrame'>\n",
            "RangeIndex: 10015 entries, 0 to 10014\n",
            "Data columns (total 7 columns):\n",
            " #   Column  Non-Null Count  Dtype  \n",
            "---  ------  --------------  -----  \n",
            " 0   akiec   10015 non-null  float32\n",
            " 1   bcc     10015 non-null  float32\n",
            " 2   bkl     10015 non-null  float32\n",
            " 3   df      10015 non-null  float32\n",
            " 4   mel     10015 non-null  float32\n",
            " 5   nv      10015 non-null  float32\n",
            " 6   vasc    10015 non-null  float32\n",
            "dtypes: float32(7)\n",
            "memory usage: 274.0 KB\n"
          ]
        }
      ]
    },
    {
      "cell_type": "code",
      "source": [
        "# dx으로 원핫인코딩을 하였기에 합치기 전 dx 컬럼을 삭제 해 줍니다.\n",
        "tile_df.drop(['dx'], axis=1, inplace=True)"
      ],
      "metadata": {
        "id": "mX4eELAkPHFX"
      },
      "execution_count": 14,
      "outputs": []
    },
    {
      "cell_type": "code",
      "source": [
        "# 원핫인코딩 데이터와 tile_df를 concat을 이용하여 합쳐 줍니다.\n",
        "tile_df = pd.concat([one_df, tile_df], axis=1)\n",
        "tile_df.head()"
      ],
      "metadata": {
        "colab": {
          "base_uri": "https://localhost:8080/",
          "height": 206
        },
        "id": "E4do7NndY_Qe",
        "outputId": "d90b6a72-c493-4043-b7e4-25448c18e07c"
      },
      "execution_count": 15,
      "outputs": [
        {
          "output_type": "execute_result",
          "data": {
            "text/plain": [
              "   akiec  bcc  bkl   df  mel   nv  vasc  \\\n",
              "0    0.0  0.0  1.0  0.0  0.0  0.0   0.0   \n",
              "1    0.0  0.0  1.0  0.0  0.0  0.0   0.0   \n",
              "2    0.0  0.0  1.0  0.0  0.0  0.0   0.0   \n",
              "3    0.0  0.0  1.0  0.0  0.0  0.0   0.0   \n",
              "4    0.0  0.0  1.0  0.0  0.0  0.0   0.0   \n",
              "\n",
              "                                               path  \n",
              "0  /content/ham10000_images_part_1/ISIC_0027419.jpg  \n",
              "1  /content/ham10000_images_part_1/ISIC_0025030.jpg  \n",
              "2  /content/ham10000_images_part_1/ISIC_0026769.jpg  \n",
              "3  /content/ham10000_images_part_1/ISIC_0025661.jpg  \n",
              "4  /content/ham10000_images_part_2/ISIC_0031633.jpg  "
            ],
            "text/html": [
              "\n",
              "  <div id=\"df-a1985f60-36db-4b52-b42c-e49efcfb2b93\">\n",
              "    <div class=\"colab-df-container\">\n",
              "      <div>\n",
              "<style scoped>\n",
              "    .dataframe tbody tr th:only-of-type {\n",
              "        vertical-align: middle;\n",
              "    }\n",
              "\n",
              "    .dataframe tbody tr th {\n",
              "        vertical-align: top;\n",
              "    }\n",
              "\n",
              "    .dataframe thead th {\n",
              "        text-align: right;\n",
              "    }\n",
              "</style>\n",
              "<table border=\"1\" class=\"dataframe\">\n",
              "  <thead>\n",
              "    <tr style=\"text-align: right;\">\n",
              "      <th></th>\n",
              "      <th>akiec</th>\n",
              "      <th>bcc</th>\n",
              "      <th>bkl</th>\n",
              "      <th>df</th>\n",
              "      <th>mel</th>\n",
              "      <th>nv</th>\n",
              "      <th>vasc</th>\n",
              "      <th>path</th>\n",
              "    </tr>\n",
              "  </thead>\n",
              "  <tbody>\n",
              "    <tr>\n",
              "      <th>0</th>\n",
              "      <td>0.0</td>\n",
              "      <td>0.0</td>\n",
              "      <td>1.0</td>\n",
              "      <td>0.0</td>\n",
              "      <td>0.0</td>\n",
              "      <td>0.0</td>\n",
              "      <td>0.0</td>\n",
              "      <td>/content/ham10000_images_part_1/ISIC_0027419.jpg</td>\n",
              "    </tr>\n",
              "    <tr>\n",
              "      <th>1</th>\n",
              "      <td>0.0</td>\n",
              "      <td>0.0</td>\n",
              "      <td>1.0</td>\n",
              "      <td>0.0</td>\n",
              "      <td>0.0</td>\n",
              "      <td>0.0</td>\n",
              "      <td>0.0</td>\n",
              "      <td>/content/ham10000_images_part_1/ISIC_0025030.jpg</td>\n",
              "    </tr>\n",
              "    <tr>\n",
              "      <th>2</th>\n",
              "      <td>0.0</td>\n",
              "      <td>0.0</td>\n",
              "      <td>1.0</td>\n",
              "      <td>0.0</td>\n",
              "      <td>0.0</td>\n",
              "      <td>0.0</td>\n",
              "      <td>0.0</td>\n",
              "      <td>/content/ham10000_images_part_1/ISIC_0026769.jpg</td>\n",
              "    </tr>\n",
              "    <tr>\n",
              "      <th>3</th>\n",
              "      <td>0.0</td>\n",
              "      <td>0.0</td>\n",
              "      <td>1.0</td>\n",
              "      <td>0.0</td>\n",
              "      <td>0.0</td>\n",
              "      <td>0.0</td>\n",
              "      <td>0.0</td>\n",
              "      <td>/content/ham10000_images_part_1/ISIC_0025661.jpg</td>\n",
              "    </tr>\n",
              "    <tr>\n",
              "      <th>4</th>\n",
              "      <td>0.0</td>\n",
              "      <td>0.0</td>\n",
              "      <td>1.0</td>\n",
              "      <td>0.0</td>\n",
              "      <td>0.0</td>\n",
              "      <td>0.0</td>\n",
              "      <td>0.0</td>\n",
              "      <td>/content/ham10000_images_part_2/ISIC_0031633.jpg</td>\n",
              "    </tr>\n",
              "  </tbody>\n",
              "</table>\n",
              "</div>\n",
              "      <button class=\"colab-df-convert\" onclick=\"convertToInteractive('df-a1985f60-36db-4b52-b42c-e49efcfb2b93')\"\n",
              "              title=\"Convert this dataframe to an interactive table.\"\n",
              "              style=\"display:none;\">\n",
              "        \n",
              "  <svg xmlns=\"http://www.w3.org/2000/svg\" height=\"24px\"viewBox=\"0 0 24 24\"\n",
              "       width=\"24px\">\n",
              "    <path d=\"M0 0h24v24H0V0z\" fill=\"none\"/>\n",
              "    <path d=\"M18.56 5.44l.94 2.06.94-2.06 2.06-.94-2.06-.94-.94-2.06-.94 2.06-2.06.94zm-11 1L8.5 8.5l.94-2.06 2.06-.94-2.06-.94L8.5 2.5l-.94 2.06-2.06.94zm10 10l.94 2.06.94-2.06 2.06-.94-2.06-.94-.94-2.06-.94 2.06-2.06.94z\"/><path d=\"M17.41 7.96l-1.37-1.37c-.4-.4-.92-.59-1.43-.59-.52 0-1.04.2-1.43.59L10.3 9.45l-7.72 7.72c-.78.78-.78 2.05 0 2.83L4 21.41c.39.39.9.59 1.41.59.51 0 1.02-.2 1.41-.59l7.78-7.78 2.81-2.81c.8-.78.8-2.07 0-2.86zM5.41 20L4 18.59l7.72-7.72 1.47 1.35L5.41 20z\"/>\n",
              "  </svg>\n",
              "      </button>\n",
              "      \n",
              "  <style>\n",
              "    .colab-df-container {\n",
              "      display:flex;\n",
              "      flex-wrap:wrap;\n",
              "      gap: 12px;\n",
              "    }\n",
              "\n",
              "    .colab-df-convert {\n",
              "      background-color: #E8F0FE;\n",
              "      border: none;\n",
              "      border-radius: 50%;\n",
              "      cursor: pointer;\n",
              "      display: none;\n",
              "      fill: #1967D2;\n",
              "      height: 32px;\n",
              "      padding: 0 0 0 0;\n",
              "      width: 32px;\n",
              "    }\n",
              "\n",
              "    .colab-df-convert:hover {\n",
              "      background-color: #E2EBFA;\n",
              "      box-shadow: 0px 1px 2px rgba(60, 64, 67, 0.3), 0px 1px 3px 1px rgba(60, 64, 67, 0.15);\n",
              "      fill: #174EA6;\n",
              "    }\n",
              "\n",
              "    [theme=dark] .colab-df-convert {\n",
              "      background-color: #3B4455;\n",
              "      fill: #D2E3FC;\n",
              "    }\n",
              "\n",
              "    [theme=dark] .colab-df-convert:hover {\n",
              "      background-color: #434B5C;\n",
              "      box-shadow: 0px 1px 3px 1px rgba(0, 0, 0, 0.15);\n",
              "      filter: drop-shadow(0px 1px 2px rgba(0, 0, 0, 0.3));\n",
              "      fill: #FFFFFF;\n",
              "    }\n",
              "  </style>\n",
              "\n",
              "      <script>\n",
              "        const buttonEl =\n",
              "          document.querySelector('#df-a1985f60-36db-4b52-b42c-e49efcfb2b93 button.colab-df-convert');\n",
              "        buttonEl.style.display =\n",
              "          google.colab.kernel.accessAllowed ? 'block' : 'none';\n",
              "\n",
              "        async function convertToInteractive(key) {\n",
              "          const element = document.querySelector('#df-a1985f60-36db-4b52-b42c-e49efcfb2b93');\n",
              "          const dataTable =\n",
              "            await google.colab.kernel.invokeFunction('convertToInteractive',\n",
              "                                                     [key], {});\n",
              "          if (!dataTable) return;\n",
              "\n",
              "          const docLinkHtml = 'Like what you see? Visit the ' +\n",
              "            '<a target=\"_blank\" href=https://colab.research.google.com/notebooks/data_table.ipynb>data table notebook</a>'\n",
              "            + ' to learn more about interactive tables.';\n",
              "          element.innerHTML = '';\n",
              "          dataTable['output_type'] = 'display_data';\n",
              "          await google.colab.output.renderOutput(dataTable, element);\n",
              "          const docLink = document.createElement('div');\n",
              "          docLink.innerHTML = docLinkHtml;\n",
              "          element.appendChild(docLink);\n",
              "        }\n",
              "      </script>\n",
              "    </div>\n",
              "  </div>\n",
              "  "
            ]
          },
          "metadata": {},
          "execution_count": 15
        }
      ]
    },
    {
      "cell_type": "code",
      "source": [
        "tile_df.info()"
      ],
      "metadata": {
        "colab": {
          "base_uri": "https://localhost:8080/"
        },
        "id": "KqqXQ3LAHYgf",
        "outputId": "750d5641-b3ca-46a7-eb2b-d8d1fc1268a1"
      },
      "execution_count": 16,
      "outputs": [
        {
          "output_type": "stream",
          "name": "stdout",
          "text": [
            "<class 'pandas.core.frame.DataFrame'>\n",
            "RangeIndex: 10015 entries, 0 to 10014\n",
            "Data columns (total 8 columns):\n",
            " #   Column  Non-Null Count  Dtype  \n",
            "---  ------  --------------  -----  \n",
            " 0   akiec   10015 non-null  float32\n",
            " 1   bcc     10015 non-null  float32\n",
            " 2   bkl     10015 non-null  float32\n",
            " 3   df      10015 non-null  float32\n",
            " 4   mel     10015 non-null  float32\n",
            " 5   nv      10015 non-null  float32\n",
            " 6   vasc    10015 non-null  float32\n",
            " 7   path    10015 non-null  object \n",
            "dtypes: float32(7), object(1)\n",
            "memory usage: 352.2+ KB\n"
          ]
        }
      ]
    },
    {
      "cell_type": "code",
      "source": [
        "tile_df.info()"
      ],
      "metadata": {
        "colab": {
          "base_uri": "https://localhost:8080/"
        },
        "id": "V3XJnOUrhkV3",
        "outputId": "ea38faa8-fade-4acf-8ee9-29bb5b5d250c"
      },
      "execution_count": 17,
      "outputs": [
        {
          "output_type": "stream",
          "name": "stdout",
          "text": [
            "<class 'pandas.core.frame.DataFrame'>\n",
            "RangeIndex: 10015 entries, 0 to 10014\n",
            "Data columns (total 8 columns):\n",
            " #   Column  Non-Null Count  Dtype  \n",
            "---  ------  --------------  -----  \n",
            " 0   akiec   10015 non-null  float32\n",
            " 1   bcc     10015 non-null  float32\n",
            " 2   bkl     10015 non-null  float32\n",
            " 3   df      10015 non-null  float32\n",
            " 4   mel     10015 non-null  float32\n",
            " 5   nv      10015 non-null  float32\n",
            " 6   vasc    10015 non-null  float32\n",
            " 7   path    10015 non-null  object \n",
            "dtypes: float32(7), object(1)\n",
            "memory usage: 352.2+ KB\n"
          ]
        }
      ]
    },
    {
      "cell_type": "code",
      "source": [
        "# 이미지 확인\n",
        "import matplotlib.image as mpimg\n",
        "import matplotlib.pyplot as plt\n",
        "\n",
        "img = mpimg.imread(tile_df.iloc[6]['path'])\n",
        "plt.imshow(img)"
      ],
      "metadata": {
        "colab": {
          "base_uri": "https://localhost:8080/",
          "height": 287
        },
        "id": "HYqrkJIrD76I",
        "outputId": "2d4984c8-e9ef-4e15-a89d-70fa256d7e1e"
      },
      "execution_count": 18,
      "outputs": [
        {
          "output_type": "execute_result",
          "data": {
            "text/plain": [
              "<matplotlib.image.AxesImage at 0x7fdb67978250>"
            ]
          },
          "metadata": {},
          "execution_count": 18
        },
        {
          "output_type": "display_data",
          "data": {
            "text/plain": [
              "<Figure size 432x288 with 1 Axes>"
            ],
            "image/png": "[encoded data removed]"
          },
          "metadata": {
            "needs_background": "light"
          }
        }
      ]
    },
    {
      "cell_type": "code",
      "source": [
        "# 스케일링 미리 해주기\n",
        "from tensorflow.keras.preprocessing.image import ImageDataGenerator\n",
        "\n",
        "train_datagen = ImageDataGenerator(rescale = 1./255)\n",
        "val_datagen = ImageDataGenerator(rescale= 1./255)"
      ],
      "metadata": {
        "id": "DogMacG6D9pY"
      },
      "execution_count": 19,
      "outputs": []
    },
    {
      "cell_type": "code",
      "source": [
        "# train과 validation이 나누어 지지 않았기에\n",
        "# 임으로 title_df를 train_test_split을 이용하여 \n",
        "# train_df와 val_df로 나눔\n",
        "from sklearn.model_selection import train_test_split\n",
        "\n",
        "# 8:2 테스트와 훈련 데이터 나누기\n",
        "tra_df, test_df = train_test_split(tile_df, test_size=0.2, random_state = 777)"
      ],
      "metadata": {
        "id": "3HNerb2HitY1"
      },
      "execution_count": 22,
      "outputs": []
    },
    {
      "cell_type": "code",
      "source": [
        "# 6.7:3.3으로 train_df와 val_df 나누기\n",
        "train_df, val_df = train_test_split(tra_df,test_size=0.33, random_state=777)"
      ],
      "metadata": {
        "id": "oqZ12UjLigzl"
      },
      "execution_count": 23,
      "outputs": []
    },
    {
      "cell_type": "code",
      "source": [
        "train_df"
      ],
      "metadata": {
        "colab": {
          "base_uri": "https://localhost:8080/",
          "height": 424
        },
        "id": "8eYgxkGH3fb2",
        "outputId": "c08cb9cb-8a9b-4176-9c67-afa856b09414"
      },
      "execution_count": 24,
      "outputs": [
        {
          "output_type": "execute_result",
          "data": {
            "text/plain": [
              "      akiec  bcc  bkl   df  mel   nv  vasc  \\\n",
              "2460    0.0  0.0  0.0  0.0  0.0  0.0   1.0   \n",
              "5525    0.0  0.0  0.0  0.0  0.0  1.0   0.0   \n",
              "1318    0.0  0.0  0.0  0.0  1.0  0.0   0.0   \n",
              "1653    0.0  0.0  0.0  0.0  1.0  0.0   0.0   \n",
              "666     0.0  0.0  1.0  0.0  0.0  0.0   0.0   \n",
              "...     ...  ...  ...  ...  ...  ...   ...   \n",
              "6770    0.0  0.0  0.0  0.0  0.0  1.0   0.0   \n",
              "354     0.0  0.0  1.0  0.0  0.0  0.0   0.0   \n",
              "6382    0.0  0.0  0.0  0.0  0.0  1.0   0.0   \n",
              "3913    0.0  0.0  0.0  0.0  0.0  1.0   0.0   \n",
              "5200    0.0  0.0  0.0  0.0  0.0  1.0   0.0   \n",
              "\n",
              "                                                  path  \n",
              "2460  /content/ham10000_images_part_1/ISIC_0026349.jpg  \n",
              "5525  /content/ham10000_images_part_2/ISIC_0030200.jpg  \n",
              "1318  /content/ham10000_images_part_2/ISIC_0029630.jpg  \n",
              "1653  /content/ham10000_images_part_2/ISIC_0032879.jpg  \n",
              "666   /content/ham10000_images_part_1/ISIC_0029302.jpg  \n",
              "...                                                ...  \n",
              "6770  /content/ham10000_images_part_1/ISIC_0028633.jpg  \n",
              "354   /content/ham10000_images_part_2/ISIC_0030465.jpg  \n",
              "6382  /content/ham10000_images_part_2/ISIC_0030619.jpg  \n",
              "3913  /content/ham10000_images_part_2/ISIC_0030971.jpg  \n",
              "5200  /content/ham10000_images_part_2/ISIC_0030482.jpg  \n",
              "\n",
              "[5368 rows x 8 columns]"
            ],
            "text/html": [
              "\n",
              "  <div id=\"df-90121dde-925c-4037-8900-e228087f4b35\">\n",
              "    <div class=\"colab-df-container\">\n",
              "      <div>\n",
              "<style scoped>\n",
              "    .dataframe tbody tr th:only-of-type {\n",
              "        vertical-align: middle;\n",
              "    }\n",
              "\n",
              "    .dataframe tbody tr th {\n",
              "        vertical-align: top;\n",
              "    }\n",
              "\n",
              "    .dataframe thead th {\n",
              "        text-align: right;\n",
              "    }\n",
              "</style>\n",
              "<table border=\"1\" class=\"dataframe\">\n",
              "  <thead>\n",
              "    <tr style=\"text-align: right;\">\n",
              "      <th></th>\n",
              "      <th>akiec</th>\n",
              "      <th>bcc</th>\n",
              "      <th>bkl</th>\n",
              "      <th>df</th>\n",
              "      <th>mel</th>\n",
              "      <th>nv</th>\n",
              "      <th>vasc</th>\n",
              "      <th>path</th>\n",
              "    </tr>\n",
              "  </thead>\n",
              "  <tbody>\n",
              "    <tr>\n",
              "      <th>2460</th>\n",
              "      <td>0.0</td>\n",
              "      <td>0.0</td>\n",
              "      <td>0.0</td>\n",
              "      <td>0.0</td>\n",
              "      <td>0.0</td>\n",
              "      <td>0.0</td>\n",
              "      <td>1.0</td>\n",
              "      <td>/content/ham10000_images_part_1/ISIC_0026349.jpg</td>\n",
              "    </tr>\n",
              "    <tr>\n",
              "      <th>5525</th>\n",
              "      <td>0.0</td>\n",
              "      <td>0.0</td>\n",
              "      <td>0.0</td>\n",
              "      <td>0.0</td>\n",
              "      <td>0.0</td>\n",
              "      <td>1.0</td>\n",
              "      <td>0.0</td>\n",
              "      <td>/content/ham10000_images_part_2/ISIC_0030200.jpg</td>\n",
              "    </tr>\n",
              "    <tr>\n",
              "      <th>1318</th>\n",
              "      <td>0.0</td>\n",
              "      <td>0.0</td>\n",
              "      <td>0.0</td>\n",
              "      <td>0.0</td>\n",
              "      <td>1.0</td>\n",
              "      <td>0.0</td>\n",
              "      <td>0.0</td>\n",
              "      <td>/content/ham10000_images_part_2/ISIC_0029630.jpg</td>\n",
              "    </tr>\n",
              "    <tr>\n",
              "      <th>1653</th>\n",
              "      <td>0.0</td>\n",
              "      <td>0.0</td>\n",
              "      <td>0.0</td>\n",
              "      <td>0.0</td>\n",
              "      <td>1.0</td>\n",
              "      <td>0.0</td>\n",
              "      <td>0.0</td>\n",
              "      <td>/content/ham10000_images_part_2/ISIC_0032879.jpg</td>\n",
              "    </tr>\n",
              "    <tr>\n",
              "      <th>666</th>\n",
              "      <td>0.0</td>\n",
              "      <td>0.0</td>\n",
              "      <td>1.0</td>\n",
              "      <td>0.0</td>\n",
              "      <td>0.0</td>\n",
              "      <td>0.0</td>\n",
              "      <td>0.0</td>\n",
              "      <td>/content/ham10000_images_part_1/ISIC_0029302.jpg</td>\n",
              "    </tr>\n",
              "    <tr>\n",
              "      <th>...</th>\n",
              "      <td>...</td>\n",
              "      <td>...</td>\n",
              "      <td>...</td>\n",
              "      <td>...</td>\n",
              "      <td>...</td>\n",
              "      <td>...</td>\n",
              "      <td>...</td>\n",
              "      <td>...</td>\n",
              "    </tr>\n",
              "    <tr>\n",
              "      <th>6770</th>\n",
              "      <td>0.0</td>\n",
              "      <td>0.0</td>\n",
              "      <td>0.0</td>\n",
              "      <td>0.0</td>\n",
              "      <td>0.0</td>\n",
              "      <td>1.0</td>\n",
              "      <td>0.0</td>\n",
              "      <td>/content/ham10000_images_part_1/ISIC_0028633.jpg</td>\n",
              "    </tr>\n",
              "    <tr>\n",
              "      <th>354</th>\n",
              "      <td>0.0</td>\n",
              "      <td>0.0</td>\n",
              "      <td>1.0</td>\n",
              "      <td>0.0</td>\n",
              "      <td>0.0</td>\n",
              "      <td>0.0</td>\n",
              "      <td>0.0</td>\n",
              "      <td>/content/ham10000_images_part_2/ISIC_0030465.jpg</td>\n",
              "    </tr>\n",
              "    <tr>\n",
              "      <th>6382</th>\n",
              "      <td>0.0</td>\n",
              "      <td>0.0</td>\n",
              "      <td>0.0</td>\n",
              "      <td>0.0</td>\n",
              "      <td>0.0</td>\n",
              "      <td>1.0</td>\n",
              "      <td>0.0</td>\n",
              "      <td>/content/ham10000_images_part_2/ISIC_0030619.jpg</td>\n",
              "    </tr>\n",
              "    <tr>\n",
              "      <th>3913</th>\n",
              "      <td>0.0</td>\n",
              "      <td>0.0</td>\n",
              "      <td>0.0</td>\n",
              "      <td>0.0</td>\n",
              "      <td>0.0</td>\n",
              "      <td>1.0</td>\n",
              "      <td>0.0</td>\n",
              "      <td>/content/ham10000_images_part_2/ISIC_0030971.jpg</td>\n",
              "    </tr>\n",
              "    <tr>\n",
              "      <th>5200</th>\n",
              "      <td>0.0</td>\n",
              "      <td>0.0</td>\n",
              "      <td>0.0</td>\n",
              "      <td>0.0</td>\n",
              "      <td>0.0</td>\n",
              "      <td>1.0</td>\n",
              "      <td>0.0</td>\n",
              "      <td>/content/ham10000_images_part_2/ISIC_0030482.jpg</td>\n",
              "    </tr>\n",
              "  </tbody>\n",
              "</table>\n",
              "<p>5368 rows × 8 columns</p>\n",
              "</div>\n",
              "      <button class=\"colab-df-convert\" onclick=\"convertToInteractive('df-90121dde-925c-4037-8900-e228087f4b35')\"\n",
              "              title=\"Convert this dataframe to an interactive table.\"\n",
              "              style=\"display:none;\">\n",
              "        \n",
              "  <svg xmlns=\"http://www.w3.org/2000/svg\" height=\"24px\"viewBox=\"0 0 24 24\"\n",
              "       width=\"24px\">\n",
              "    <path d=\"M0 0h24v24H0V0z\" fill=\"none\"/>\n",
              "    <path d=\"M18.56 5.44l.94 2.06.94-2.06 2.06-.94-2.06-.94-.94-2.06-.94 2.06-2.06.94zm-11 1L8.5 8.5l.94-2.06 2.06-.94-2.06-.94L8.5 2.5l-.94 2.06-2.06.94zm10 10l.94 2.06.94-2.06 2.06-.94-2.06-.94-.94-2.06-.94 2.06-2.06.94z\"/><path d=\"M17.41 7.96l-1.37-1.37c-.4-.4-.92-.59-1.43-.59-.52 0-1.04.2-1.43.59L10.3 9.45l-7.72 7.72c-.78.78-.78 2.05 0 2.83L4 21.41c.39.39.9.59 1.41.59.51 0 1.02-.2 1.41-.59l7.78-7.78 2.81-2.81c.8-.78.8-2.07 0-2.86zM5.41 20L4 18.59l7.72-7.72 1.47 1.35L5.41 20z\"/>\n",
              "  </svg>\n",
              "      </button>\n",
              "      \n",
              "  <style>\n",
              "    .colab-df-container {\n",
              "      display:flex;\n",
              "      flex-wrap:wrap;\n",
              "      gap: 12px;\n",
              "    }\n",
              "\n",
              "    .colab-df-convert {\n",
              "      background-color: #E8F0FE;\n",
              "      border: none;\n",
              "      border-radius: 50%;\n",
              "      cursor: pointer;\n",
              "      display: none;\n",
              "      fill: #1967D2;\n",
              "      height: 32px;\n",
              "      padding: 0 0 0 0;\n",
              "      width: 32px;\n",
              "    }\n",
              "\n",
              "    .colab-df-convert:hover {\n",
              "      background-color: #E2EBFA;\n",
              "      box-shadow: 0px 1px 2px rgba(60, 64, 67, 0.3), 0px 1px 3px 1px rgba(60, 64, 67, 0.15);\n",
              "      fill: #174EA6;\n",
              "    }\n",
              "\n",
              "    [theme=dark] .colab-df-convert {\n",
              "      background-color: #3B4455;\n",
              "      fill: #D2E3FC;\n",
              "    }\n",
              "\n",
              "    [theme=dark] .colab-df-convert:hover {\n",
              "      background-color: #434B5C;\n",
              "      box-shadow: 0px 1px 3px 1px rgba(0, 0, 0, 0.15);\n",
              "      filter: drop-shadow(0px 1px 2px rgba(0, 0, 0, 0.3));\n",
              "      fill: #FFFFFF;\n",
              "    }\n",
              "  </style>\n",
              "\n",
              "      <script>\n",
              "        const buttonEl =\n",
              "          document.querySelector('#df-90121dde-925c-4037-8900-e228087f4b35 button.colab-df-convert');\n",
              "        buttonEl.style.display =\n",
              "          google.colab.kernel.accessAllowed ? 'block' : 'none';\n",
              "\n",
              "        async function convertToInteractive(key) {\n",
              "          const element = document.querySelector('#df-90121dde-925c-4037-8900-e228087f4b35');\n",
              "          const dataTable =\n",
              "            await google.colab.kernel.invokeFunction('convertToInteractive',\n",
              "                                                     [key], {});\n",
              "          if (!dataTable) return;\n",
              "\n",
              "          const docLinkHtml = 'Like what you see? Visit the ' +\n",
              "            '<a target=\"_blank\" href=https://colab.research.google.com/notebooks/data_table.ipynb>data table notebook</a>'\n",
              "            + ' to learn more about interactive tables.';\n",
              "          element.innerHTML = '';\n",
              "          dataTable['output_type'] = 'display_data';\n",
              "          await google.colab.output.renderOutput(dataTable, element);\n",
              "          const docLink = document.createElement('div');\n",
              "          docLink.innerHTML = docLinkHtml;\n",
              "          element.appendChild(docLink);\n",
              "        }\n",
              "      </script>\n",
              "    </div>\n",
              "  </div>\n",
              "  "
            ]
          },
          "metadata": {},
          "execution_count": 24
        }
      ]
    },
    {
      "cell_type": "code",
      "source": [
        "val_df"
      ],
      "metadata": {
        "colab": {
          "base_uri": "https://localhost:8080/",
          "height": 424
        },
        "id": "huA1Oran3xqW",
        "outputId": "c614ad0b-5e0c-42d5-a3fb-ac926099e90f"
      },
      "execution_count": 25,
      "outputs": [
        {
          "output_type": "execute_result",
          "data": {
            "text/plain": [
              "      akiec  bcc  bkl   df  mel   nv  vasc  \\\n",
              "2182    0.0  0.0  0.0  0.0  1.0  0.0   0.0   \n",
              "5822    0.0  0.0  0.0  0.0  0.0  1.0   0.0   \n",
              "3919    0.0  0.0  0.0  0.0  0.0  1.0   0.0   \n",
              "5526    0.0  0.0  0.0  0.0  0.0  1.0   0.0   \n",
              "8619    0.0  0.0  0.0  0.0  0.0  1.0   0.0   \n",
              "...     ...  ...  ...  ...  ...  ...   ...   \n",
              "2131    0.0  0.0  0.0  0.0  1.0  0.0   0.0   \n",
              "8764    0.0  0.0  0.0  0.0  0.0  1.0   0.0   \n",
              "4596    0.0  0.0  0.0  0.0  0.0  1.0   0.0   \n",
              "4199    0.0  0.0  0.0  0.0  0.0  1.0   0.0   \n",
              "3299    0.0  0.0  0.0  0.0  0.0  1.0   0.0   \n",
              "\n",
              "                                                  path  \n",
              "2182  /content/ham10000_images_part_1/ISIC_0028103.jpg  \n",
              "5822  /content/ham10000_images_part_1/ISIC_0027583.jpg  \n",
              "3919  /content/ham10000_images_part_1/ISIC_0024744.jpg  \n",
              "5526  /content/ham10000_images_part_1/ISIC_0028312.jpg  \n",
              "8619  /content/ham10000_images_part_2/ISIC_0029452.jpg  \n",
              "...                                                ...  \n",
              "2131  /content/ham10000_images_part_2/ISIC_0031915.jpg  \n",
              "8764  /content/ham10000_images_part_1/ISIC_0026359.jpg  \n",
              "4596  /content/ham10000_images_part_1/ISIC_0024583.jpg  \n",
              "4199  /content/ham10000_images_part_1/ISIC_0025614.jpg  \n",
              "3299  /content/ham10000_images_part_1/ISIC_0028668.jpg  \n",
              "\n",
              "[2644 rows x 8 columns]"
            ],
            "text/html": [
              "\n",
              "  <div id=\"df-cda97607-ee9a-49bb-b6d7-e3776aa6c7c5\">\n",
              "    <div class=\"colab-df-container\">\n",
              "      <div>\n",
              "<style scoped>\n",
              "    .dataframe tbody tr th:only-of-type {\n",
              "        vertical-align: middle;\n",
              "    }\n",
              "\n",
              "    .dataframe tbody tr th {\n",
              "        vertical-align: top;\n",
              "    }\n",
              "\n",
              "    .dataframe thead th {\n",
              "        text-align: right;\n",
              "    }\n",
              "</style>\n",
              "<table border=\"1\" class=\"dataframe\">\n",
              "  <thead>\n",
              "    <tr style=\"text-align: right;\">\n",
              "      <th></th>\n",
              "      <th>akiec</th>\n",
              "      <th>bcc</th>\n",
              "      <th>bkl</th>\n",
              "      <th>df</th>\n",
              "      <th>mel</th>\n",
              "      <th>nv</th>\n",
              "      <th>vasc</th>\n",
              "      <th>path</th>\n",
              "    </tr>\n",
              "  </thead>\n",
              "  <tbody>\n",
              "    <tr>\n",
              "      <th>2182</th>\n",
              "      <td>0.0</td>\n",
              "      <td>0.0</td>\n",
              "      <td>0.0</td>\n",
              "      <td>0.0</td>\n",
              "      <td>1.0</td>\n",
              "      <td>0.0</td>\n",
              "      <td>0.0</td>\n",
              "      <td>/content/ham10000_images_part_1/ISIC_0028103.jpg</td>\n",
              "    </tr>\n",
              "    <tr>\n",
              "      <th>5822</th>\n",
              "      <td>0.0</td>\n",
              "      <td>0.0</td>\n",
              "      <td>0.0</td>\n",
              "      <td>0.0</td>\n",
              "      <td>0.0</td>\n",
              "      <td>1.0</td>\n",
              "      <td>0.0</td>\n",
              "      <td>/content/ham10000_images_part_1/ISIC_0027583.jpg</td>\n",
              "    </tr>\n",
              "    <tr>\n",
              "      <th>3919</th>\n",
              "      <td>0.0</td>\n",
              "      <td>0.0</td>\n",
              "      <td>0.0</td>\n",
              "      <td>0.0</td>\n",
              "      <td>0.0</td>\n",
              "      <td>1.0</td>\n",
              "      <td>0.0</td>\n",
              "      <td>/content/ham10000_images_part_1/ISIC_0024744.jpg</td>\n",
              "    </tr>\n",
              "    <tr>\n",
              "      <th>5526</th>\n",
              "      <td>0.0</td>\n",
              "      <td>0.0</td>\n",
              "      <td>0.0</td>\n",
              "      <td>0.0</td>\n",
              "      <td>0.0</td>\n",
              "      <td>1.0</td>\n",
              "      <td>0.0</td>\n",
              "      <td>/content/ham10000_images_part_1/ISIC_0028312.jpg</td>\n",
              "    </tr>\n",
              "    <tr>\n",
              "      <th>8619</th>\n",
              "      <td>0.0</td>\n",
              "      <td>0.0</td>\n",
              "      <td>0.0</td>\n",
              "      <td>0.0</td>\n",
              "      <td>0.0</td>\n",
              "      <td>1.0</td>\n",
              "      <td>0.0</td>\n",
              "      <td>/content/ham10000_images_part_2/ISIC_0029452.jpg</td>\n",
              "    </tr>\n",
              "    <tr>\n",
              "      <th>...</th>\n",
              "      <td>...</td>\n",
              "      <td>...</td>\n",
              "      <td>...</td>\n",
              "      <td>...</td>\n",
              "      <td>...</td>\n",
              "      <td>...</td>\n",
              "      <td>...</td>\n",
              "      <td>...</td>\n",
              "    </tr>\n",
              "    <tr>\n",
              "      <th>2131</th>\n",
              "      <td>0.0</td>\n",
              "      <td>0.0</td>\n",
              "      <td>0.0</td>\n",
              "      <td>0.0</td>\n",
              "      <td>1.0</td>\n",
              "      <td>0.0</td>\n",
              "      <td>0.0</td>\n",
              "      <td>/content/ham10000_images_part_2/ISIC_0031915.jpg</td>\n",
              "    </tr>\n",
              "    <tr>\n",
              "      <th>8764</th>\n",
              "      <td>0.0</td>\n",
              "      <td>0.0</td>\n",
              "      <td>0.0</td>\n",
              "      <td>0.0</td>\n",
              "      <td>0.0</td>\n",
              "      <td>1.0</td>\n",
              "      <td>0.0</td>\n",
              "      <td>/content/ham10000_images_part_1/ISIC_0026359.jpg</td>\n",
              "    </tr>\n",
              "    <tr>\n",
              "      <th>4596</th>\n",
              "      <td>0.0</td>\n",
              "      <td>0.0</td>\n",
              "      <td>0.0</td>\n",
              "      <td>0.0</td>\n",
              "      <td>0.0</td>\n",
              "      <td>1.0</td>\n",
              "      <td>0.0</td>\n",
              "      <td>/content/ham10000_images_part_1/ISIC_0024583.jpg</td>\n",
              "    </tr>\n",
              "    <tr>\n",
              "      <th>4199</th>\n",
              "      <td>0.0</td>\n",
              "      <td>0.0</td>\n",
              "      <td>0.0</td>\n",
              "      <td>0.0</td>\n",
              "      <td>0.0</td>\n",
              "      <td>1.0</td>\n",
              "      <td>0.0</td>\n",
              "      <td>/content/ham10000_images_part_1/ISIC_0025614.jpg</td>\n",
              "    </tr>\n",
              "    <tr>\n",
              "      <th>3299</th>\n",
              "      <td>0.0</td>\n",
              "      <td>0.0</td>\n",
              "      <td>0.0</td>\n",
              "      <td>0.0</td>\n",
              "      <td>0.0</td>\n",
              "      <td>1.0</td>\n",
              "      <td>0.0</td>\n",
              "      <td>/content/ham10000_images_part_1/ISIC_0028668.jpg</td>\n",
              "    </tr>\n",
              "  </tbody>\n",
              "</table>\n",
              "<p>2644 rows × 8 columns</p>\n",
              "</div>\n",
              "      <button class=\"colab-df-convert\" onclick=\"convertToInteractive('df-cda97607-ee9a-49bb-b6d7-e3776aa6c7c5')\"\n",
              "              title=\"Convert this dataframe to an interactive table.\"\n",
              "              style=\"display:none;\">\n",
              "        \n",
              "  <svg xmlns=\"http://www.w3.org/2000/svg\" height=\"24px\"viewBox=\"0 0 24 24\"\n",
              "       width=\"24px\">\n",
              "    <path d=\"M0 0h24v24H0V0z\" fill=\"none\"/>\n",
              "    <path d=\"M18.56 5.44l.94 2.06.94-2.06 2.06-.94-2.06-.94-.94-2.06-.94 2.06-2.06.94zm-11 1L8.5 8.5l.94-2.06 2.06-.94-2.06-.94L8.5 2.5l-.94 2.06-2.06.94zm10 10l.94 2.06.94-2.06 2.06-.94-2.06-.94-.94-2.06-.94 2.06-2.06.94z\"/><path d=\"M17.41 7.96l-1.37-1.37c-.4-.4-.92-.59-1.43-.59-.52 0-1.04.2-1.43.59L10.3 9.45l-7.72 7.72c-.78.78-.78 2.05 0 2.83L4 21.41c.39.39.9.59 1.41.59.51 0 1.02-.2 1.41-.59l7.78-7.78 2.81-2.81c.8-.78.8-2.07 0-2.86zM5.41 20L4 18.59l7.72-7.72 1.47 1.35L5.41 20z\"/>\n",
              "  </svg>\n",
              "      </button>\n",
              "      \n",
              "  <style>\n",
              "    .colab-df-container {\n",
              "      display:flex;\n",
              "      flex-wrap:wrap;\n",
              "      gap: 12px;\n",
              "    }\n",
              "\n",
              "    .colab-df-convert {\n",
              "      background-color: #E8F0FE;\n",
              "      border: none;\n",
              "      border-radius: 50%;\n",
              "      cursor: pointer;\n",
              "      display: none;\n",
              "      fill: #1967D2;\n",
              "      height: 32px;\n",
              "      padding: 0 0 0 0;\n",
              "      width: 32px;\n",
              "    }\n",
              "\n",
              "    .colab-df-convert:hover {\n",
              "      background-color: #E2EBFA;\n",
              "      box-shadow: 0px 1px 2px rgba(60, 64, 67, 0.3), 0px 1px 3px 1px rgba(60, 64, 67, 0.15);\n",
              "      fill: #174EA6;\n",
              "    }\n",
              "\n",
              "    [theme=dark] .colab-df-convert {\n",
              "      background-color: #3B4455;\n",
              "      fill: #D2E3FC;\n",
              "    }\n",
              "\n",
              "    [theme=dark] .colab-df-convert:hover {\n",
              "      background-color: #434B5C;\n",
              "      box-shadow: 0px 1px 3px 1px rgba(0, 0, 0, 0.15);\n",
              "      filter: drop-shadow(0px 1px 2px rgba(0, 0, 0, 0.3));\n",
              "      fill: #FFFFFF;\n",
              "    }\n",
              "  </style>\n",
              "\n",
              "      <script>\n",
              "        const buttonEl =\n",
              "          document.querySelector('#df-cda97607-ee9a-49bb-b6d7-e3776aa6c7c5 button.colab-df-convert');\n",
              "        buttonEl.style.display =\n",
              "          google.colab.kernel.accessAllowed ? 'block' : 'none';\n",
              "\n",
              "        async function convertToInteractive(key) {\n",
              "          const element = document.querySelector('#df-cda97607-ee9a-49bb-b6d7-e3776aa6c7c5');\n",
              "          const dataTable =\n",
              "            await google.colab.kernel.invokeFunction('convertToInteractive',\n",
              "                                                     [key], {});\n",
              "          if (!dataTable) return;\n",
              "\n",
              "          const docLinkHtml = 'Like what you see? Visit the ' +\n",
              "            '<a target=\"_blank\" href=https://colab.research.google.com/notebooks/data_table.ipynb>data table notebook</a>'\n",
              "            + ' to learn more about interactive tables.';\n",
              "          element.innerHTML = '';\n",
              "          dataTable['output_type'] = 'display_data';\n",
              "          await google.colab.output.renderOutput(dataTable, element);\n",
              "          const docLink = document.createElement('div');\n",
              "          docLink.innerHTML = docLinkHtml;\n",
              "          element.appendChild(docLink);\n",
              "        }\n",
              "      </script>\n",
              "    </div>\n",
              "  </div>\n",
              "  "
            ]
          },
          "metadata": {},
          "execution_count": 25
        }
      ]
    },
    {
      "cell_type": "markdown",
      "source": [
        "# 4. 모델 구축 및 학습"
      ],
      "metadata": {
        "id": "hNWhmaA8OIpm"
      }
    },
    {
      "cell_type": "code",
      "source": [
        "# class 명을 지정('akiec', 'bcc', 'bkl', 'df', 'mel', 'nv', 'vasc')\n",
        "# 임으로 나눈 train_df와 val_df를 이용하여 train_generator와 val_generator 생성\n",
        "# x_col의 해당 이미지 파일 경로로 지정\n",
        "# color_mod는 'rgb', class_mode는 raw로 지정\n",
        "# seed는 42, batch_size는 32로 지정\n",
        "\n",
        "batch_size=32\n",
        "\n",
        "class_col = ['akiec', 'bcc', 'bkl', 'df', 'mel', 'nv', 'vasc']\n",
        "\n",
        "train_generator = train_datagen.flow_from_dataframe(\n",
        "    dataframe = train_df,\n",
        "    directory='',\n",
        "    x_col = 'path',\n",
        "    y_col = class_col,\n",
        "    target_size = (150, 150),\n",
        "    color_mode = 'rgb',\n",
        "    class_mode = 'raw',\n",
        "    batch_size = batch_size,\n",
        "    shuffle = True,\n",
        "    seed=42)\n",
        "\n",
        "val_generator = val_datagen.flow_from_dataframe(\n",
        "    dataframe = val_df,\n",
        "    directory = '',\n",
        "    x_col = 'path',\n",
        "    y_col = class_col,\n",
        "    target_size = (150, 150),\n",
        "    color_mode='rgb',\n",
        "    class_mode='raw',\n",
        "    batch_size=batch_size,\n",
        "    shuffle=True\n",
        ")"
      ],
      "metadata": {
        "colab": {
          "base_uri": "https://localhost:8080/"
        },
        "id": "yJvme52KEE0w",
        "outputId": "3bdcecff-3875-4af8-b01f-1f6c3bcf5e3f"
      },
      "execution_count": 26,
      "outputs": [
        {
          "output_type": "stream",
          "name": "stdout",
          "text": [
            "Found 5368 validated image filenames.\n",
            "Found 2644 validated image filenames.\n"
          ]
        }
      ]
    },
    {
      "cell_type": "code",
      "source": [
        "# 결과 값이 가장 좋은 드롭아웃을 사용\n",
        "# 이미지 사이는 150으로 고정\n",
        "# 다중 분류이기에 softmax와 손실 함수는 categorical_crossentropy를 사용\n",
        "# 클래스가 7개 이기에 출력층을 7개 생성\n",
        "from tensorflow.keras.models import Sequential\n",
        "from tensorflow.keras.layers import Conv2D, MaxPool2D, Dense, Flatten, Dropout\n",
        "from tensorflow.keras.optimizers import Adam\n",
        "\n",
        "model = Sequential()\n",
        "\n",
        "model.add(Conv2D(filters = 64, kernel_size = 3, padding ='same',\n",
        "                 activation = 'relu', input_shape = (150, 150, 3)))\n",
        "model.add(Conv2D(filters = 64, kernel_size = 3, padding ='same',\n",
        "                 activation = 'relu'))\n",
        "model.add(MaxPool2D(pool_size = (2,2), strides = 2, padding='same'))\n",
        "model.add(Dropout(0.2))\n",
        "model.add(Conv2D(filters = 128, kernel_size = 3, padding ='same',\n",
        "                 activation = 'relu'))\n",
        "model.add(Conv2D(filters = 128, kernel_size = 3, padding ='same',\n",
        "                 activation = 'relu'))\n",
        "model.add(MaxPool2D(pool_size = (2,2), strides = 2, padding='same'))\n",
        "model.add(Dropout(0.2))\n",
        "model.add(Conv2D(filters = 256, kernel_size = 3, padding ='same',\n",
        "                 activation = 'relu'))\n",
        "model.add(Conv2D(filters = 256, kernel_size = 3, padding ='same',\n",
        "                 activation = 'relu'))\n",
        "model.add(MaxPool2D(pool_size = (2,2), strides = 2, padding='same'))\n",
        "model.add(Dropout(0.2))\n",
        "model.add(Flatten())\n",
        "model.add(Dense(512, activation = 'relu'))\n",
        "model.add(Dense(7, activation = 'softmax'))\n",
        "\n",
        "model.compile(optimizer = Adam(1e-4),\n",
        "              loss = 'categorical_crossentropy',\n",
        "              metrics=['acc'])\n",
        "\n",
        "model.summary()"
      ],
      "metadata": {
        "colab": {
          "base_uri": "https://localhost:8080/"
        },
        "id": "JS5mKXkVEIlv",
        "outputId": "4c5817ac-8fe1-47bc-c30e-a78114f74f08"
      },
      "execution_count": 27,
      "outputs": [
        {
          "output_type": "stream",
          "name": "stdout",
          "text": [
            "Model: \"sequential\"\n",
            "_________________________________________________________________\n",
            " Layer (type)                Output Shape              Param #   \n",
            "=================================================================\n",
            " conv2d (Conv2D)             (None, 150, 150, 64)      1792      \n",
            "                                                                 \n",
            " conv2d_1 (Conv2D)           (None, 150, 150, 64)      36928     \n",
            "                                                                 \n",
            " max_pooling2d (MaxPooling2D  (None, 75, 75, 64)       0         \n",
            " )                                                               \n",
            "                                                                 \n",
            " dropout (Dropout)           (None, 75, 75, 64)        0         \n",
            "                                                                 \n",
            " conv2d_2 (Conv2D)           (None, 75, 75, 128)       73856     \n",
            "                                                                 \n",
            " conv2d_3 (Conv2D)           (None, 75, 75, 128)       147584    \n",
            "                                                                 \n",
            " max_pooling2d_1 (MaxPooling  (None, 38, 38, 128)      0         \n",
            " 2D)                                                             \n",
            "                                                                 \n",
            " dropout_1 (Dropout)         (None, 38, 38, 128)       0         \n",
            "                                                                 \n",
            " conv2d_4 (Conv2D)           (None, 38, 38, 256)       295168    \n",
            "                                                                 \n",
            " conv2d_5 (Conv2D)           (None, 38, 38, 256)       590080    \n",
            "                                                                 \n",
            " max_pooling2d_2 (MaxPooling  (None, 19, 19, 256)      0         \n",
            " 2D)                                                             \n",
            "                                                                 \n",
            " dropout_2 (Dropout)         (None, 19, 19, 256)       0         \n",
            "                                                                 \n",
            " flatten (Flatten)           (None, 92416)             0         \n",
            "                                                                 \n",
            " dense (Dense)               (None, 512)               47317504  \n",
            "                                                                 \n",
            " dense_1 (Dense)             (None, 7)                 3591      \n",
            "                                                                 \n",
            "=================================================================\n",
            "Total params: 48,466,503\n",
            "Trainable params: 48,466,503\n",
            "Non-trainable params: 0\n",
            "_________________________________________________________________\n"
          ]
        }
      ]
    },
    {
      "cell_type": "code",
      "source": [
        "from tensorflow.keras.callbacks import EarlyStopping, ModelCheckpoint\n",
        "# 검증 데이터 손실(val_loss)이 증가하면, \n",
        "# 과적합 징후므로 검증 데이터 손실이 5회 증가하면 \n",
        "# 학습을 조기 종료(Early Stopping)합니다. \n",
        "es = EarlyStopping(monitor='val_loss', \n",
        "                   mode='min', verbose=1, patience=5)\n",
        "# Q1_model.h5에 정확도가 높은 모델 저장 \n",
        "mc = ModelCheckpoint('Q1_model.h5', \n",
        "                     monitor='val_acc', mode='max', \n",
        "                     verbose=2, save_best_only=True)"
      ],
      "metadata": {
        "id": "48AW64rea9le"
      },
      "execution_count": 28,
      "outputs": []
    },
    {
      "cell_type": "code",
      "source": [
        "# epochs는 30, batch_size를 32로 두고 훈련 시킴\n",
        "history = model.fit(train_generator,\n",
        "                    epochs = 30,\n",
        "                    batch_size = 32,\n",
        "                    callbacks=[es, mc],\n",
        "                    validation_data = val_generator)"
      ],
      "metadata": {
        "colab": {
          "base_uri": "https://localhost:8080/"
        },
        "id": "0h2neI8wHHDP",
        "outputId": "4020164d-667e-417d-95d7-ef09f813aba3"
      },
      "execution_count": 29,
      "outputs": [
        {
          "output_type": "stream",
          "name": "stdout",
          "text": [
            "Epoch 1/30\n",
            "168/168 [==============================] - ETA: 0s - loss: 1.0396 - acc: 0.6690\n",
            "Epoch 1: val_acc improved from -inf to 0.66717, saving model to Q1_model.h5\n",
            "168/168 [==============================] - 119s 614ms/step - loss: 1.0396 - acc: 0.6690 - val_loss: 1.1015 - val_acc: 0.6672\n",
            "Epoch 2/30\n",
            "168/168 [==============================] - ETA: 0s - loss: 0.9316 - acc: 0.6762\n",
            "Epoch 2: val_acc did not improve from 0.66717\n",
            "168/168 [==============================] - 83s 490ms/step - loss: 0.9316 - acc: 0.6762 - val_loss: 0.9559 - val_acc: 0.6653\n",
            "Epoch 3/30\n",
            "168/168 [==============================] - ETA: 0s - loss: 0.8795 - acc: 0.6827\n",
            "Epoch 3: val_acc improved from 0.66717 to 0.69516, saving model to Q1_model.h5\n",
            "168/168 [==============================] - 80s 475ms/step - loss: 0.8795 - acc: 0.6827 - val_loss: 0.8912 - val_acc: 0.6952\n",
            "Epoch 4/30\n",
            "168/168 [==============================] - ETA: 0s - loss: 0.8220 - acc: 0.7047\n",
            "Epoch 4: val_acc improved from 0.69516 to 0.71218, saving model to Q1_model.h5\n",
            "168/168 [==============================] - 81s 482ms/step - loss: 0.8220 - acc: 0.7047 - val_loss: 0.8436 - val_acc: 0.7122\n",
            "Epoch 5/30\n",
            "168/168 [==============================] - ETA: 0s - loss: 0.8000 - acc: 0.7090\n",
            "Epoch 5: val_acc improved from 0.71218 to 0.71293, saving model to Q1_model.h5\n",
            "168/168 [==============================] - 80s 474ms/step - loss: 0.8000 - acc: 0.7090 - val_loss: 0.8091 - val_acc: 0.7129\n",
            "Epoch 6/30\n",
            "168/168 [==============================] - ETA: 0s - loss: 0.7485 - acc: 0.7291\n",
            "Epoch 6: val_acc improved from 0.71293 to 0.71785, saving model to Q1_model.h5\n",
            "168/168 [==============================] - 79s 473ms/step - loss: 0.7485 - acc: 0.7291 - val_loss: 0.7669 - val_acc: 0.7179\n",
            "Epoch 7/30\n",
            "168/168 [==============================] - ETA: 0s - loss: 0.7002 - acc: 0.7439\n",
            "Epoch 7: val_acc improved from 0.71785 to 0.72390, saving model to Q1_model.h5\n",
            "168/168 [==============================] - 79s 468ms/step - loss: 0.7002 - acc: 0.7439 - val_loss: 0.7654 - val_acc: 0.7239\n",
            "Epoch 8/30\n",
            "168/168 [==============================] - ETA: 0s - loss: 0.6469 - acc: 0.7619\n",
            "Epoch 8: val_acc did not improve from 0.72390\n",
            "168/168 [==============================] - 78s 462ms/step - loss: 0.6469 - acc: 0.7619 - val_loss: 0.7519 - val_acc: 0.7205\n",
            "Epoch 9/30\n",
            "168/168 [==============================] - ETA: 0s - loss: 0.5976 - acc: 0.7832\n",
            "Epoch 9: val_acc improved from 0.72390 to 0.73260, saving model to Q1_model.h5\n",
            "168/168 [==============================] - 79s 472ms/step - loss: 0.5976 - acc: 0.7832 - val_loss: 0.7428 - val_acc: 0.7326\n",
            "Epoch 10/30\n",
            "168/168 [==============================] - ETA: 0s - loss: 0.5619 - acc: 0.7899\n",
            "Epoch 10: val_acc did not improve from 0.73260\n",
            "168/168 [==============================] - 78s 463ms/step - loss: 0.5619 - acc: 0.7899 - val_loss: 0.7802 - val_acc: 0.7228\n",
            "Epoch 11/30\n",
            "168/168 [==============================] - ETA: 0s - loss: 0.4891 - acc: 0.8217\n",
            "Epoch 11: val_acc did not improve from 0.73260\n",
            "168/168 [==============================] - 78s 462ms/step - loss: 0.4891 - acc: 0.8217 - val_loss: 0.8132 - val_acc: 0.7156\n",
            "Epoch 12/30\n",
            "168/168 [==============================] - ETA: 0s - loss: 0.4123 - acc: 0.8467\n",
            "Epoch 12: val_acc did not improve from 0.73260\n",
            "168/168 [==============================] - 77s 458ms/step - loss: 0.4123 - acc: 0.8467 - val_loss: 0.9565 - val_acc: 0.6838\n",
            "Epoch 13/30\n",
            "168/168 [==============================] - ETA: 0s - loss: 0.3556 - acc: 0.8700\n",
            "Epoch 13: val_acc did not improve from 0.73260\n",
            "168/168 [==============================] - 77s 461ms/step - loss: 0.3556 - acc: 0.8700 - val_loss: 0.9275 - val_acc: 0.7247\n",
            "Epoch 14/30\n",
            "168/168 [==============================] - ETA: 0s - loss: 0.2811 - acc: 0.8975\n",
            "Epoch 14: val_acc did not improve from 0.73260\n",
            "168/168 [==============================] - 77s 457ms/step - loss: 0.2811 - acc: 0.8975 - val_loss: 1.0106 - val_acc: 0.7216\n",
            "Epoch 14: early stopping\n"
          ]
        }
      ]
    },
    {
      "cell_type": "markdown",
      "source": [
        "# 5. 학습과정 시각화\n",
        "\n",
        "\n"
      ],
      "metadata": {
        "id": "soa6V93PQVMO"
      }
    },
    {
      "cell_type": "code",
      "source": [
        "import matplotlib.pyplot as plt\n",
        "\n",
        "his_dict = history.history\n",
        "loss = his_dict['loss']\n",
        "val_loss = his_dict['val_loss'] \n",
        "\n",
        "epochs = range(1, len(loss) + 1)\n",
        "fig = plt.figure(figsize = (10, 5))\n",
        "\n",
        "# 훈련 및 검증 손실 그리기\n",
        "ax1 = fig.add_subplot(1, 2, 1)\n",
        "ax1.plot(epochs, loss, color = 'blue', label = 'train_loss')\n",
        "ax1.plot(epochs, val_loss, color = 'orange', label = 'val_loss')\n",
        "ax1.set_title('train and val loss')\n",
        "ax1.set_xlabel('epochs')\n",
        "ax1.set_ylabel('loss')\n",
        "ax1.legend()\n",
        "\n",
        "acc = his_dict['acc']\n",
        "val_acc = his_dict['val_acc']\n",
        "\n",
        "# 훈련 및 검증 정확도 그리기\n",
        "ax2 = fig.add_subplot(1, 2, 2)\n",
        "ax2.plot(epochs, acc, color = 'blue', label = 'train_acc')\n",
        "ax2.plot(epochs, val_acc, color = 'orange', label = 'val_acc')\n",
        "ax2.set_title('train and val acc')\n",
        "ax2.set_xlabel('epochs')\n",
        "ax2.set_ylabel('acc')\n",
        "ax2.legend()\n",
        "\n",
        "plt.show()"
      ],
      "metadata": {
        "colab": {
          "base_uri": "https://localhost:8080/",
          "height": 350
        },
        "id": "Qjz-j-F-7kLW",
        "outputId": "ffbd35eb-5fd5-4df1-c284-3b71b5674410"
      },
      "execution_count": 30,
      "outputs": [
        {
          "output_type": "display_data",
          "data": {
            "text/plain": [
              "<Figure size 720x360 with 2 Axes>"
            ],
            "image/png": "[encoded data removed]"
          },
          "metadata": {
            "needs_background": "light"
          }
        }
      ]
    },
    {
      "cell_type": "markdown",
      "source": [
        "과적합이 epochs 6 부터 시작하는 것을 확인 가능"
      ],
      "metadata": {
        "id": "P3nlfVG2Qxre"
      }
    },
    {
      "cell_type": "code",
      "source": [
        "import numpy as np\n",
        "from google.colab import files\n",
        "from keras.preprocessing import image\n",
        "import matplotlib.pyplot as plt\n",
        "from keras import models\n",
        "from keras.models import load_model\n",
        "model = load_model('Q1_model.h5')\n",
        "def pred(fname):\n",
        "  img = image.load_img(fname, target_size=(150, 150))\n",
        "  plt.imshow(img)\n",
        "\n",
        "  x=image.img_to_array(img)\n",
        "  images = np.expand_dims(x, axis=0)\n",
        "\n",
        "  classes = model.predict(images, batch_size=10)\n",
        "\n",
        "  if classes[0]>0.5:\n",
        "    print(fname.split('/')[-1] + \" bcc\")\n",
        "  elif classes[0]>1.5:\n",
        "    print(fname.split('/')[-1] + \"bkl\")\n",
        "  elif classes[0]>2.5:\n",
        "    print(fname.split('/')[-1] + \"df\")\n",
        "  elif classes[0]>3.5:\n",
        "    print(fname.split('/')[-1] + \"mel\")\n",
        "  elif classes[0]>4.5:\n",
        "    print(fname.split('/')[-1] + \"nv\")\n",
        "  elif classes[0]>5.5:\n",
        "    print(fname.split('/')[-1] + \"vasc\")\n",
        "  else:\n",
        "    print(fname.split('/')[-1] + \" akiec\")"
      ],
      "metadata": {
        "id": "Ws5WlQc67r1m"
      },
      "execution_count": 31,
      "outputs": []
    },
    {
      "cell_type": "markdown",
      "source": [
        "# 6. 이미지 증식\n"
      ],
      "metadata": {
        "id": "NtxyZJvYK-_-"
      }
    },
    {
      "cell_type": "code",
      "source": [
        "# ImageDataGenerator를 이용한 이미지 증식\n",
        "train_datagen = ImageDataGenerator(rescale=1./255,\n",
        "                                   horizontal_flip = True,\n",
        "                                   zoom_range = 0.2,\n",
        "                                   width_shift_range = 0.1,\n",
        "                                   height_shift_range = 0.1,\n",
        "                                   rotation_range = 30,\n",
        "                                   fill_mode = 'nearest')\n",
        "\n",
        "validation_datagen = ImageDataGenerator(rescale=1./255) "
      ],
      "metadata": {
        "id": "-P1dReqW70nG"
      },
      "execution_count": 32,
      "outputs": []
    },
    {
      "cell_type": "markdown",
      "source": [
        "## 6-1 이미지 증식 후의 train_generator, val_generator 설정과 모델 구성"
      ],
      "metadata": {
        "id": "bftdFqfmSdpA"
      }
    },
    {
      "cell_type": "code",
      "source": [
        "# 위와 동일\n",
        "batch_size = 32\n",
        "class_col = ['akiec', 'bcc', 'bkl', 'df', 'mel', 'nv', 'vasc']\n",
        "\n",
        "train_generator = train_datagen.flow_from_dataframe(\n",
        "    dataframe = train_df,\n",
        "    directory='',\n",
        "    x_col = 'path',\n",
        "    y_col = class_col,\n",
        "    target_size = (150, 150),\n",
        "    color_mode = 'rgb',\n",
        "    class_mode = 'raw',\n",
        "    batch_size = batch_size,\n",
        "    shuffle = True,\n",
        "    seed=42)\n",
        "\n",
        "val_generator = val_datagen.flow_from_dataframe(\n",
        "    dataframe = val_df,\n",
        "    directory = '',\n",
        "    x_col = 'path',\n",
        "    y_col = class_col,\n",
        "    target_size = (150, 150),\n",
        "    color_mode='rgb',\n",
        "    class_mode='raw',\n",
        "    batch_size=batch_size,\n",
        "    shuffle=True\n",
        ")"
      ],
      "metadata": {
        "colab": {
          "base_uri": "https://localhost:8080/"
        },
        "id": "yFKifGtJ8TsN",
        "outputId": "92946ab8-8152-4d97-d013-d7b8a9e26954"
      },
      "execution_count": 33,
      "outputs": [
        {
          "output_type": "stream",
          "name": "stdout",
          "text": [
            "Found 5368 validated image filenames.\n",
            "Found 2644 validated image filenames.\n"
          ]
        }
      ]
    },
    {
      "cell_type": "code",
      "source": [
        "# 드롭아웃으로 구성\n",
        "from tensorflow.keras.models import Sequential\n",
        "from tensorflow.keras.layers import Conv2D, MaxPool2D, Dense, Flatten, Dropout\n",
        "from tensorflow.keras.optimizers import Adam\n",
        "\n",
        "model = Sequential()\n",
        "\n",
        "model.add(Conv2D(filters = 64, kernel_size = 3, padding ='same',\n",
        "                 activation = 'relu', input_shape = (150, 150, 3)))\n",
        "model.add(Conv2D(filters = 64, kernel_size = 3, padding ='same',\n",
        "                 activation = 'relu'))\n",
        "model.add(MaxPool2D(pool_size = (2,2), strides = 2, padding='same'))\n",
        "model.add(Dropout(0.2))\n",
        "model.add(Conv2D(filters = 128, kernel_size = 3, padding ='same',\n",
        "                 activation = 'relu'))\n",
        "model.add(Conv2D(filters = 128, kernel_size = 3, padding ='same',\n",
        "                 activation = 'relu'))\n",
        "model.add(MaxPool2D(pool_size = (2,2), strides = 2, padding='same'))\n",
        "model.add(Dropout(0.2))\n",
        "model.add(Conv2D(filters = 256, kernel_size = 3, padding ='same',\n",
        "                 activation = 'relu'))\n",
        "model.add(Conv2D(filters = 256, kernel_size = 3, padding ='same',\n",
        "                 activation = 'relu'))\n",
        "model.add(MaxPool2D(pool_size = (2,2), strides = 2, padding='same'))\n",
        "model.add(Dropout(0.2))\n",
        "model.add(Flatten())\n",
        "model.add(Dense(512, activation = 'relu'))\n",
        "model.add(Dense(7, activation = 'softmax'))\n",
        "\n",
        "model.compile(optimizer = Adam(1e-4),\n",
        "              loss = 'categorical_crossentropy',\n",
        "              metrics=['acc'])\n",
        "\n",
        "model.summary()"
      ],
      "metadata": {
        "colab": {
          "base_uri": "https://localhost:8080/"
        },
        "id": "gYUp7gOkHD3e",
        "outputId": "31a11142-36e1-410d-f17b-bac2233a548c"
      },
      "execution_count": 34,
      "outputs": [
        {
          "output_type": "stream",
          "name": "stdout",
          "text": [
            "Model: \"sequential_1\"\n",
            "_________________________________________________________________\n",
            " Layer (type)                Output Shape              Param #   \n",
            "=================================================================\n",
            " conv2d_6 (Conv2D)           (None, 150, 150, 64)      1792      \n",
            "                                                                 \n",
            " conv2d_7 (Conv2D)           (None, 150, 150, 64)      36928     \n",
            "                                                                 \n",
            " max_pooling2d_3 (MaxPooling  (None, 75, 75, 64)       0         \n",
            " 2D)                                                             \n",
            "                                                                 \n",
            " dropout_3 (Dropout)         (None, 75, 75, 64)        0         \n",
            "                                                                 \n",
            " conv2d_8 (Conv2D)           (None, 75, 75, 128)       73856     \n",
            "                                                                 \n",
            " conv2d_9 (Conv2D)           (None, 75, 75, 128)       147584    \n",
            "                                                                 \n",
            " max_pooling2d_4 (MaxPooling  (None, 38, 38, 128)      0         \n",
            " 2D)                                                             \n",
            "                                                                 \n",
            " dropout_4 (Dropout)         (None, 38, 38, 128)       0         \n",
            "                                                                 \n",
            " conv2d_10 (Conv2D)          (None, 38, 38, 256)       295168    \n",
            "                                                                 \n",
            " conv2d_11 (Conv2D)          (None, 38, 38, 256)       590080    \n",
            "                                                                 \n",
            " max_pooling2d_5 (MaxPooling  (None, 19, 19, 256)      0         \n",
            " 2D)                                                             \n",
            "                                                                 \n",
            " dropout_5 (Dropout)         (None, 19, 19, 256)       0         \n",
            "                                                                 \n",
            " flatten_1 (Flatten)         (None, 92416)             0         \n",
            "                                                                 \n",
            " dense_2 (Dense)             (None, 512)               47317504  \n",
            "                                                                 \n",
            " dense_3 (Dense)             (None, 7)                 3591      \n",
            "                                                                 \n",
            "=================================================================\n",
            "Total params: 48,466,503\n",
            "Trainable params: 48,466,503\n",
            "Non-trainable params: 0\n",
            "_________________________________________________________________\n"
          ]
        }
      ]
    },
    {
      "cell_type": "code",
      "source": [
        "from tensorflow.keras.callbacks import EarlyStopping, ModelCheckpoint\n",
        "# 검증 데이터 손실(val_loss)이 증가하면, \n",
        "# 과적합 징후므로 검증 데이터 손실이 5회 증가하면 \n",
        "# 학습을 조기 종료(Early Stopping)합니다. \n",
        "es = EarlyStopping(monitor='val_loss', \n",
        "                   mode='min', verbose=1, patience=5)\n",
        "# imggen_model.h5에 정확도 높은 모델 저장 \n",
        "mc = ModelCheckpoint('imggen_model.h5', \n",
        "                     monitor='val_acc', mode='max', \n",
        "                     verbose=2, save_best_only=True)"
      ],
      "metadata": {
        "id": "pUPpn8JxbHTF"
      },
      "execution_count": 35,
      "outputs": []
    },
    {
      "cell_type": "code",
      "source": [
        "history = model.fit(train_generator,\n",
        "                    epochs = 20,\n",
        "                    batch_size = 32,\n",
        "                    callbacks=[es, mc],\n",
        "                    validation_data = val_generator)"
      ],
      "metadata": {
        "colab": {
          "base_uri": "https://localhost:8080/"
        },
        "id": "pnxBIewgHS2G",
        "outputId": "a199b014-7997-4742-d591-1555980f2ee8"
      },
      "execution_count": 36,
      "outputs": [
        {
          "output_type": "stream",
          "name": "stdout",
          "text": [
            "Epoch 1/20\n",
            "168/168 [==============================] - ETA: 0s - loss: 1.0588 - acc: 0.6675\n",
            "Epoch 1: val_acc improved from -inf to 0.66641, saving model to imggen_model.h5\n",
            "168/168 [==============================] - 103s 610ms/step - loss: 1.0588 - acc: 0.6675 - val_loss: 1.0994 - val_acc: 0.6664\n",
            "Epoch 2/20\n",
            "168/168 [==============================] - ETA: 0s - loss: 0.9613 - acc: 0.6714\n",
            "Epoch 2: val_acc improved from 0.66641 to 0.66906, saving model to imggen_model.h5\n",
            "168/168 [==============================] - 101s 601ms/step - loss: 0.9613 - acc: 0.6714 - val_loss: 0.9868 - val_acc: 0.6691\n",
            "Epoch 3/20\n",
            "168/168 [==============================] - ETA: 0s - loss: 0.9227 - acc: 0.6747\n",
            "Epoch 3: val_acc improved from 0.66906 to 0.67322, saving model to imggen_model.h5\n",
            "168/168 [==============================] - 103s 610ms/step - loss: 0.9227 - acc: 0.6747 - val_loss: 1.0206 - val_acc: 0.6732\n",
            "Epoch 4/20\n",
            "168/168 [==============================] - ETA: 0s - loss: 0.8822 - acc: 0.6813\n",
            "Epoch 4: val_acc improved from 0.67322 to 0.68759, saving model to imggen_model.h5\n",
            "168/168 [==============================] - 102s 609ms/step - loss: 0.8822 - acc: 0.6813 - val_loss: 0.8950 - val_acc: 0.6876\n",
            "Epoch 5/20\n",
            "168/168 [==============================] - ETA: 0s - loss: 0.8502 - acc: 0.6919\n",
            "Epoch 5: val_acc did not improve from 0.68759\n",
            "168/168 [==============================] - 100s 596ms/step - loss: 0.8502 - acc: 0.6919 - val_loss: 0.8877 - val_acc: 0.6660\n",
            "Epoch 6/20\n",
            "168/168 [==============================] - ETA: 0s - loss: 0.8089 - acc: 0.7060\n",
            "Epoch 6: val_acc improved from 0.68759 to 0.68949, saving model to imggen_model.h5\n",
            "168/168 [==============================] - 102s 608ms/step - loss: 0.8089 - acc: 0.7060 - val_loss: 0.8118 - val_acc: 0.6895\n",
            "Epoch 7/20\n",
            "168/168 [==============================] - ETA: 0s - loss: 0.7843 - acc: 0.7098\n",
            "Epoch 7: val_acc improved from 0.68949 to 0.70234, saving model to imggen_model.h5\n",
            "168/168 [==============================] - 102s 609ms/step - loss: 0.7843 - acc: 0.7098 - val_loss: 0.8469 - val_acc: 0.7023\n",
            "Epoch 8/20\n",
            "168/168 [==============================] - ETA: 0s - loss: 0.7643 - acc: 0.7120\n",
            "Epoch 8: val_acc improved from 0.70234 to 0.71558, saving model to imggen_model.h5\n",
            "168/168 [==============================] - 103s 614ms/step - loss: 0.7643 - acc: 0.7120 - val_loss: 0.8249 - val_acc: 0.7156\n",
            "Epoch 9/20\n",
            "168/168 [==============================] - ETA: 0s - loss: 0.7393 - acc: 0.7252\n",
            "Epoch 9: val_acc improved from 0.71558 to 0.73525, saving model to imggen_model.h5\n",
            "168/168 [==============================] - 103s 616ms/step - loss: 0.7393 - acc: 0.7252 - val_loss: 0.7183 - val_acc: 0.7352\n",
            "Epoch 10/20\n",
            "168/168 [==============================] - ETA: 0s - loss: 0.7188 - acc: 0.7336\n",
            "Epoch 10: val_acc did not improve from 0.73525\n",
            "168/168 [==============================] - 103s 611ms/step - loss: 0.7188 - acc: 0.7336 - val_loss: 0.7266 - val_acc: 0.7186\n",
            "Epoch 11/20\n",
            "168/168 [==============================] - ETA: 0s - loss: 0.7142 - acc: 0.7340\n",
            "Epoch 11: val_acc improved from 0.73525 to 0.73865, saving model to imggen_model.h5\n",
            "168/168 [==============================] - 103s 615ms/step - loss: 0.7142 - acc: 0.7340 - val_loss: 0.6998 - val_acc: 0.7387\n",
            "Epoch 12/20\n",
            "168/168 [==============================] - ETA: 0s - loss: 0.7051 - acc: 0.7399\n",
            "Epoch 12: val_acc did not improve from 0.73865\n",
            "168/168 [==============================] - 102s 605ms/step - loss: 0.7051 - acc: 0.7399 - val_loss: 0.7250 - val_acc: 0.7296\n",
            "Epoch 13/20\n",
            "168/168 [==============================] - ETA: 0s - loss: 0.6780 - acc: 0.7457\n",
            "Epoch 13: val_acc improved from 0.73865 to 0.74168, saving model to imggen_model.h5\n",
            "168/168 [==============================] - 103s 614ms/step - loss: 0.6780 - acc: 0.7457 - val_loss: 0.6761 - val_acc: 0.7417\n",
            "Epoch 14/20\n",
            "168/168 [==============================] - ETA: 0s - loss: 0.6707 - acc: 0.7461\n",
            "Epoch 14: val_acc improved from 0.74168 to 0.74471, saving model to imggen_model.h5\n",
            "168/168 [==============================] - 102s 608ms/step - loss: 0.6707 - acc: 0.7461 - val_loss: 0.6713 - val_acc: 0.7447\n",
            "Epoch 15/20\n",
            "168/168 [==============================] - ETA: 0s - loss: 0.6595 - acc: 0.7522\n",
            "Epoch 15: val_acc improved from 0.74471 to 0.75265, saving model to imggen_model.h5\n",
            "168/168 [==============================] - 102s 606ms/step - loss: 0.6595 - acc: 0.7522 - val_loss: 0.6639 - val_acc: 0.7526\n",
            "Epoch 16/20\n",
            "168/168 [==============================] - ETA: 0s - loss: 0.6522 - acc: 0.7534\n",
            "Epoch 16: val_acc did not improve from 0.75265\n",
            "168/168 [==============================] - 99s 589ms/step - loss: 0.6522 - acc: 0.7534 - val_loss: 0.7302 - val_acc: 0.7307\n",
            "Epoch 17/20\n",
            "168/168 [==============================] - ETA: 0s - loss: 0.6450 - acc: 0.7547\n",
            "Epoch 17: val_acc did not improve from 0.75265\n",
            "168/168 [==============================] - 100s 596ms/step - loss: 0.6450 - acc: 0.7547 - val_loss: 0.6784 - val_acc: 0.7436\n",
            "Epoch 18/20\n",
            "168/168 [==============================] - ETA: 0s - loss: 0.6339 - acc: 0.7656\n",
            "Epoch 18: val_acc did not improve from 0.75265\n",
            "168/168 [==============================] - 99s 592ms/step - loss: 0.6339 - acc: 0.7656 - val_loss: 0.6653 - val_acc: 0.7428\n",
            "Epoch 19/20\n",
            "168/168 [==============================] - ETA: 0s - loss: 0.6332 - acc: 0.7634\n",
            "Epoch 19: val_acc improved from 0.75265 to 0.75340, saving model to imggen_model.h5\n",
            "168/168 [==============================] - 102s 606ms/step - loss: 0.6332 - acc: 0.7634 - val_loss: 0.6540 - val_acc: 0.7534\n",
            "Epoch 20/20\n",
            "168/168 [==============================] - ETA: 0s - loss: 0.6228 - acc: 0.7653\n",
            "Epoch 20: val_acc improved from 0.75340 to 0.75378, saving model to imggen_model.h5\n",
            "168/168 [==============================] - 102s 607ms/step - loss: 0.6228 - acc: 0.7653 - val_loss: 0.6572 - val_acc: 0.7538\n"
          ]
        }
      ]
    },
    {
      "cell_type": "markdown",
      "source": [
        "## 6-2 이미지 증식 후 학습 데이터 과정 확인"
      ],
      "metadata": {
        "id": "OUtHncyjS8EG"
      }
    },
    {
      "cell_type": "code",
      "source": [
        "import matplotlib.pyplot as plt\n",
        "\n",
        "his_dict = history.history\n",
        "loss = his_dict['loss']\n",
        "val_loss = his_dict['val_loss'] \n",
        "\n",
        "epochs = range(1, len(loss) + 1)\n",
        "fig = plt.figure(figsize = (10, 5))\n",
        "\n",
        "# 훈련 및 검증 손실 그리기\n",
        "ax1 = fig.add_subplot(1, 2, 1)\n",
        "ax1.plot(epochs, loss, color = 'blue', label = 'train_loss')\n",
        "ax1.plot(epochs, val_loss, color = 'orange', label = 'val_loss')\n",
        "ax1.set_title('train and val loss')\n",
        "ax1.set_xlabel('epochs')\n",
        "ax1.set_ylabel('loss')\n",
        "ax1.legend()\n",
        "\n",
        "acc = his_dict['acc']\n",
        "val_acc = his_dict['val_acc']\n",
        "\n",
        "# 훈련 및 검증 정확도 그리기\n",
        "ax2 = fig.add_subplot(1, 2, 2)\n",
        "ax2.plot(epochs, acc, color = 'blue', label = 'train_acc')\n",
        "ax2.plot(epochs, val_acc, color = 'orange', label = 'val_acc')\n",
        "ax2.set_title('train and val acc')\n",
        "ax2.set_xlabel('epochs')\n",
        "ax2.set_ylabel('acc')\n",
        "ax2.legend()\n",
        "\n",
        "plt.show()"
      ],
      "metadata": {
        "colab": {
          "base_uri": "https://localhost:8080/",
          "height": 350
        },
        "id": "sa7w11FkSUgs",
        "outputId": "2fc3c4cf-4cde-45ae-e32e-bccf74f95e03"
      },
      "execution_count": 37,
      "outputs": [
        {
          "output_type": "display_data",
          "data": {
            "text/plain": [
              "<Figure size 720x360 with 2 Axes>"
            ],
            "image/png": "[encoded data removed]"
          },
          "metadata": {
            "needs_background": "light"
          }
        }
      ]
    },
    {
      "cell_type": "markdown",
      "source": [
        "위의 학습보다 과적합이 줄어든 것을 확인"
      ],
      "metadata": {
        "id": "KyrcMuFbTEj1"
      }
    },
    {
      "cell_type": "markdown",
      "source": [
        "# 7. 데이터 전이"
      ],
      "metadata": {
        "id": "E2lxm6FaSDS2"
      }
    },
    {
      "cell_type": "code",
      "source": [
        "# 데이터 전이 모델 중 MobileNet 불러오기\n",
        "from tensorflow.keras.models import Sequential\n",
        "from tensorflow.keras.layers import Conv2D ,MaxPool2D, Dense, Flatten, BatchNormalization, Activation\n",
        "from tensorflow.keras.optimizers import Adam\n",
        "from tensorflow.keras.applications import MobileNet\n",
        "\n",
        "# imagenet을 학습한 이미지 가져옴\n",
        "mobar = MobileNet(weights = 'imagenet', input_shape = (150,150,3), include_top = False)\n",
        "mobar.summary()"
      ],
      "metadata": {
        "colab": {
          "base_uri": "https://localhost:8080/"
        },
        "id": "P8hpq6iUUJpt",
        "outputId": "1cc3cfd5-84f1-4fc4-b452-8080bbe74d79"
      },
      "execution_count": 38,
      "outputs": [
        {
          "output_type": "stream",
          "name": "stderr",
          "text": [
            "WARNING:tensorflow:`input_shape` is undefined or non-square, or `rows` is not in [128, 160, 192, 224]. Weights for input shape (224, 224) will be loaded as the default.\n"
          ]
        },
        {
          "output_type": "stream",
          "name": "stdout",
          "text": [
            "Downloading data from https://storage.googleapis.com/tensorflow/keras-applications/mobilenet/mobilenet_1_0_224_tf_no_top.h5\n",
            "17227776/17225924 [==============================] - 0s 0us/step\n",
            "17235968/17225924 [==============================] - 0s 0us/step\n",
            "Model: \"mobilenet_1.00_224\"\n",
            "_________________________________________________________________\n",
            " Layer (type)                Output Shape              Param #   \n",
            "=================================================================\n",
            " input_1 (InputLayer)        [(None, 150, 150, 3)]     0         \n",
            "                                                                 \n",
            " conv1 (Conv2D)              (None, 75, 75, 32)        864       \n",
            "                                                                 \n",
            " conv1_bn (BatchNormalizatio  (None, 75, 75, 32)       128       \n",
            " n)                                                              \n",
            "                                                                 \n",
            " conv1_relu (ReLU)           (None, 75, 75, 32)        0         \n",
            "                                                                 \n",
            " conv_dw_1 (DepthwiseConv2D)  (None, 75, 75, 32)       288       \n",
            "                                                                 \n",
            " conv_dw_1_bn (BatchNormaliz  (None, 75, 75, 32)       128       \n",
            " ation)                                                          \n",
            "                                                                 \n",
            " conv_dw_1_relu (ReLU)       (None, 75, 75, 32)        0         \n",
            "                                                                 \n",
            " conv_pw_1 (Conv2D)          (None, 75, 75, 64)        2048      \n",
            "                                                                 \n",
            " conv_pw_1_bn (BatchNormaliz  (None, 75, 75, 64)       256       \n",
            " ation)                                                          \n",
            "                                                                 \n",
            " conv_pw_1_relu (ReLU)       (None, 75, 75, 64)        0         \n",
            "                                                                 \n",
            " conv_pad_2 (ZeroPadding2D)  (None, 76, 76, 64)        0         \n",
            "                                                                 \n",
            " conv_dw_2 (DepthwiseConv2D)  (None, 37, 37, 64)       576       \n",
            "                                                                 \n",
            " conv_dw_2_bn (BatchNormaliz  (None, 37, 37, 64)       256       \n",
            " ation)                                                          \n",
            "                                                                 \n",
            " conv_dw_2_relu (ReLU)       (None, 37, 37, 64)        0         \n",
            "                                                                 \n",
            " conv_pw_2 (Conv2D)          (None, 37, 37, 128)       8192      \n",
            "                                                                 \n",
            " conv_pw_2_bn (BatchNormaliz  (None, 37, 37, 128)      512       \n",
            " ation)                                                          \n",
            "                                                                 \n",
            " conv_pw_2_relu (ReLU)       (None, 37, 37, 128)       0         \n",
            "                                                                 \n",
            " conv_dw_3 (DepthwiseConv2D)  (None, 37, 37, 128)      1152      \n",
            "                                                                 \n",
            " conv_dw_3_bn (BatchNormaliz  (None, 37, 37, 128)      512       \n",
            " ation)                                                          \n",
            "                                                                 \n",
            " conv_dw_3_relu (ReLU)       (None, 37, 37, 128)       0         \n",
            "                                                                 \n",
            " conv_pw_3 (Conv2D)          (None, 37, 37, 128)       16384     \n",
            "                                                                 \n",
            " conv_pw_3_bn (BatchNormaliz  (None, 37, 37, 128)      512       \n",
            " ation)                                                          \n",
            "                                                                 \n",
            " conv_pw_3_relu (ReLU)       (None, 37, 37, 128)       0         \n",
            "                                                                 \n",
            " conv_pad_4 (ZeroPadding2D)  (None, 38, 38, 128)       0         \n",
            "                                                                 \n",
            " conv_dw_4 (DepthwiseConv2D)  (None, 18, 18, 128)      1152      \n",
            "                                                                 \n",
            " conv_dw_4_bn (BatchNormaliz  (None, 18, 18, 128)      512       \n",
            " ation)                                                          \n",
            "                                                                 \n",
            " conv_dw_4_relu (ReLU)       (None, 18, 18, 128)       0         \n",
            "                                                                 \n",
            " conv_pw_4 (Conv2D)          (None, 18, 18, 256)       32768     \n",
            "                                                                 \n",
            " conv_pw_4_bn (BatchNormaliz  (None, 18, 18, 256)      1024      \n",
            " ation)                                                          \n",
            "                                                                 \n",
            " conv_pw_4_relu (ReLU)       (None, 18, 18, 256)       0         \n",
            "                                                                 \n",
            " conv_dw_5 (DepthwiseConv2D)  (None, 18, 18, 256)      2304      \n",
            "                                                                 \n",
            " conv_dw_5_bn (BatchNormaliz  (None, 18, 18, 256)      1024      \n",
            " ation)                                                          \n",
            "                                                                 \n",
            " conv_dw_5_relu (ReLU)       (None, 18, 18, 256)       0         \n",
            "                                                                 \n",
            " conv_pw_5 (Conv2D)          (None, 18, 18, 256)       65536     \n",
            "                                                                 \n",
            " conv_pw_5_bn (BatchNormaliz  (None, 18, 18, 256)      1024      \n",
            " ation)                                                          \n",
            "                                                                 \n",
            " conv_pw_5_relu (ReLU)       (None, 18, 18, 256)       0         \n",
            "                                                                 \n",
            " conv_pad_6 (ZeroPadding2D)  (None, 19, 19, 256)       0         \n",
            "                                                                 \n",
            " conv_dw_6 (DepthwiseConv2D)  (None, 9, 9, 256)        2304      \n",
            "                                                                 \n",
            " conv_dw_6_bn (BatchNormaliz  (None, 9, 9, 256)        1024      \n",
            " ation)                                                          \n",
            "                                                                 \n",
            " conv_dw_6_relu (ReLU)       (None, 9, 9, 256)         0         \n",
            "                                                                 \n",
            " conv_pw_6 (Conv2D)          (None, 9, 9, 512)         131072    \n",
            "                                                                 \n",
            " conv_pw_6_bn (BatchNormaliz  (None, 9, 9, 512)        2048      \n",
            " ation)                                                          \n",
            "                                                                 \n",
            " conv_pw_6_relu (ReLU)       (None, 9, 9, 512)         0         \n",
            "                                                                 \n",
            " conv_dw_7 (DepthwiseConv2D)  (None, 9, 9, 512)        4608      \n",
            "                                                                 \n",
            " conv_dw_7_bn (BatchNormaliz  (None, 9, 9, 512)        2048      \n",
            " ation)                                                          \n",
            "                                                                 \n",
            " conv_dw_7_relu (ReLU)       (None, 9, 9, 512)         0         \n",
            "                                                                 \n",
            " conv_pw_7 (Conv2D)          (None, 9, 9, 512)         262144    \n",
            "                                                                 \n",
            " conv_pw_7_bn (BatchNormaliz  (None, 9, 9, 512)        2048      \n",
            " ation)                                                          \n",
            "                                                                 \n",
            " conv_pw_7_relu (ReLU)       (None, 9, 9, 512)         0         \n",
            "                                                                 \n",
            " conv_dw_8 (DepthwiseConv2D)  (None, 9, 9, 512)        4608      \n",
            "                                                                 \n",
            " conv_dw_8_bn (BatchNormaliz  (None, 9, 9, 512)        2048      \n",
            " ation)                                                          \n",
            "                                                                 \n",
            " conv_dw_8_relu (ReLU)       (None, 9, 9, 512)         0         \n",
            "                                                                 \n",
            " conv_pw_8 (Conv2D)          (None, 9, 9, 512)         262144    \n",
            "                                                                 \n",
            " conv_pw_8_bn (BatchNormaliz  (None, 9, 9, 512)        2048      \n",
            " ation)                                                          \n",
            "                                                                 \n",
            " conv_pw_8_relu (ReLU)       (None, 9, 9, 512)         0         \n",
            "                                                                 \n",
            " conv_dw_9 (DepthwiseConv2D)  (None, 9, 9, 512)        4608      \n",
            "                                                                 \n",
            " conv_dw_9_bn (BatchNormaliz  (None, 9, 9, 512)        2048      \n",
            " ation)                                                          \n",
            "                                                                 \n",
            " conv_dw_9_relu (ReLU)       (None, 9, 9, 512)         0         \n",
            "                                                                 \n",
            " conv_pw_9 (Conv2D)          (None, 9, 9, 512)         262144    \n",
            "                                                                 \n",
            " conv_pw_9_bn (BatchNormaliz  (None, 9, 9, 512)        2048      \n",
            " ation)                                                          \n",
            "                                                                 \n",
            " conv_pw_9_relu (ReLU)       (None, 9, 9, 512)         0         \n",
            "                                                                 \n",
            " conv_dw_10 (DepthwiseConv2D  (None, 9, 9, 512)        4608      \n",
            " )                                                               \n",
            "                                                                 \n",
            " conv_dw_10_bn (BatchNormali  (None, 9, 9, 512)        2048      \n",
            " zation)                                                         \n",
            "                                                                 \n",
            " conv_dw_10_relu (ReLU)      (None, 9, 9, 512)         0         \n",
            "                                                                 \n",
            " conv_pw_10 (Conv2D)         (None, 9, 9, 512)         262144    \n",
            "                                                                 \n",
            " conv_pw_10_bn (BatchNormali  (None, 9, 9, 512)        2048      \n",
            " zation)                                                         \n",
            "                                                                 \n",
            " conv_pw_10_relu (ReLU)      (None, 9, 9, 512)         0         \n",
            "                                                                 \n",
            " conv_dw_11 (DepthwiseConv2D  (None, 9, 9, 512)        4608      \n",
            " )                                                               \n",
            "                                                                 \n",
            " conv_dw_11_bn (BatchNormali  (None, 9, 9, 512)        2048      \n",
            " zation)                                                         \n",
            "                                                                 \n",
            " conv_dw_11_relu (ReLU)      (None, 9, 9, 512)         0         \n",
            "                                                                 \n",
            " conv_pw_11 (Conv2D)         (None, 9, 9, 512)         262144    \n",
            "                                                                 \n",
            " conv_pw_11_bn (BatchNormali  (None, 9, 9, 512)        2048      \n",
            " zation)                                                         \n",
            "                                                                 \n",
            " conv_pw_11_relu (ReLU)      (None, 9, 9, 512)         0         \n",
            "                                                                 \n",
            " conv_pad_12 (ZeroPadding2D)  (None, 10, 10, 512)      0         \n",
            "                                                                 \n",
            " conv_dw_12 (DepthwiseConv2D  (None, 4, 4, 512)        4608      \n",
            " )                                                               \n",
            "                                                                 \n",
            " conv_dw_12_bn (BatchNormali  (None, 4, 4, 512)        2048      \n",
            " zation)                                                         \n",
            "                                                                 \n",
            " conv_dw_12_relu (ReLU)      (None, 4, 4, 512)         0         \n",
            "                                                                 \n",
            " conv_pw_12 (Conv2D)         (None, 4, 4, 1024)        524288    \n",
            "                                                                 \n",
            " conv_pw_12_bn (BatchNormali  (None, 4, 4, 1024)       4096      \n",
            " zation)                                                         \n",
            "                                                                 \n",
            " conv_pw_12_relu (ReLU)      (None, 4, 4, 1024)        0         \n",
            "                                                                 \n",
            " conv_dw_13 (DepthwiseConv2D  (None, 4, 4, 1024)       9216      \n",
            " )                                                               \n",
            "                                                                 \n",
            " conv_dw_13_bn (BatchNormali  (None, 4, 4, 1024)       4096      \n",
            " zation)                                                         \n",
            "                                                                 \n",
            " conv_dw_13_relu (ReLU)      (None, 4, 4, 1024)        0         \n",
            "                                                                 \n",
            " conv_pw_13 (Conv2D)         (None, 4, 4, 1024)        1048576   \n",
            "                                                                 \n",
            " conv_pw_13_bn (BatchNormali  (None, 4, 4, 1024)       4096      \n",
            " zation)                                                         \n",
            "                                                                 \n",
            " conv_pw_13_relu (ReLU)      (None, 4, 4, 1024)        0         \n",
            "                                                                 \n",
            "=================================================================\n",
            "Total params: 3,228,864\n",
            "Trainable params: 3,206,976\n",
            "Non-trainable params: 21,888\n",
            "_________________________________________________________________\n"
          ]
        }
      ]
    },
    {
      "cell_type": "code",
      "source": [
        "# 동결 해제\n",
        "for layer in mobar.layers[:-4]:\n",
        "  layer.trainable = False"
      ],
      "metadata": {
        "id": "b5ps06EJVdwW"
      },
      "execution_count": 39,
      "outputs": []
    },
    {
      "cell_type": "markdown",
      "source": [
        "## 7-1 데이터 전이후 모델 구성 및 학습"
      ],
      "metadata": {
        "id": "QqFVCd9KXl_-"
      }
    },
    {
      "cell_type": "code",
      "source": [
        "model = Sequential()\n",
        "model.add(mobar)\n",
        "model.add(Flatten())\n",
        "model.add(Dense(256))\n",
        "model.add(BatchNormalization())\n",
        "model.add(Activation('relu'))\n",
        "model.add(Dense(7, activation = 'softmax'))\n",
        "\n",
        "model.summary()"
      ],
      "metadata": {
        "colab": {
          "base_uri": "https://localhost:8080/"
        },
        "id": "YuWjB64SVx23",
        "outputId": "43f2bfce-6678-4d5a-9654-94f5c0a8387b"
      },
      "execution_count": 40,
      "outputs": [
        {
          "output_type": "stream",
          "name": "stdout",
          "text": [
            "Model: \"sequential_2\"\n",
            "_________________________________________________________________\n",
            " Layer (type)                Output Shape              Param #   \n",
            "=================================================================\n",
            " mobilenet_1.00_224 (Functio  (None, 4, 4, 1024)       3228864   \n",
            " nal)                                                            \n",
            "                                                                 \n",
            " flatten_2 (Flatten)         (None, 16384)             0         \n",
            "                                                                 \n",
            " dense_4 (Dense)             (None, 256)               4194560   \n",
            "                                                                 \n",
            " batch_normalization (BatchN  (None, 256)              1024      \n",
            " ormalization)                                                   \n",
            "                                                                 \n",
            " activation (Activation)     (None, 256)               0         \n",
            "                                                                 \n",
            " dense_5 (Dense)             (None, 7)                 1799      \n",
            "                                                                 \n",
            "=================================================================\n",
            "Total params: 7,426,247\n",
            "Trainable params: 5,247,495\n",
            "Non-trainable params: 2,178,752\n",
            "_________________________________________________________________\n"
          ]
        }
      ]
    },
    {
      "cell_type": "code",
      "source": [
        "from tensorflow.keras.callbacks import EarlyStopping, ModelCheckpoint\n",
        "# 검증 데이터 손실(val_loss)이 증가하면, \n",
        "# 과적합 징후므로 검증 데이터 손실이 5회 증가하면 \n",
        "# 학습을 조기 종료(Early Stopping)합니다. \n",
        "es = EarlyStopping(monitor='val_loss', \n",
        "                   mode='min', verbose=1, patience=5)\n",
        "# best_mask_model.h5에 정확도가 높은 모델 저장\n",
        "mc = ModelCheckpoint('best_mask_model.h5', \n",
        "                     monitor='val_acc', mode='max', \n",
        "                     verbose=2, save_best_only=True)"
      ],
      "metadata": {
        "id": "weE0Wwg9bLB1"
      },
      "execution_count": 41,
      "outputs": []
    },
    {
      "cell_type": "code",
      "source": [
        "model.compile(optimizer = Adam(1e-4),\n",
        "              loss = 'categorical_crossentropy',\n",
        "              metrics = ['acc'])\n",
        "\n",
        "\n",
        "history = model.fit(train_generator,\n",
        "                    epochs = 20,\n",
        "                    validation_data = val_generator,\n",
        "                    callbacks=[es, mc],\n",
        "                    validation_steps = 2)"
      ],
      "metadata": {
        "colab": {
          "base_uri": "https://localhost:8080/"
        },
        "id": "6H-FYjf0V-2n",
        "outputId": "338c0eb9-8d71-4c6f-e7b8-74b98b551f28"
      },
      "execution_count": 42,
      "outputs": [
        {
          "output_type": "stream",
          "name": "stdout",
          "text": [
            "Epoch 1/20\n",
            "168/168 [==============================] - ETA: 0s - loss: 1.4263 - acc: 0.5944\n",
            "Epoch 1: val_acc improved from -inf to 0.76562, saving model to best_mask_model.h5\n",
            "168/168 [==============================] - 74s 423ms/step - loss: 1.4263 - acc: 0.5944 - val_loss: 0.8382 - val_acc: 0.7656\n",
            "Epoch 2/20\n",
            "168/168 [==============================] - ETA: 0s - loss: 0.7856 - acc: 0.7515\n",
            "Epoch 2: val_acc did not improve from 0.76562\n",
            "168/168 [==============================] - 69s 411ms/step - loss: 0.7856 - acc: 0.7515 - val_loss: 0.8112 - val_acc: 0.7344\n",
            "Epoch 3/20\n",
            "168/168 [==============================] - ETA: 0s - loss: 0.6379 - acc: 0.7807\n",
            "Epoch 3: val_acc did not improve from 0.76562\n",
            "168/168 [==============================] - 70s 415ms/step - loss: 0.6379 - acc: 0.7807 - val_loss: 0.8981 - val_acc: 0.7344\n",
            "Epoch 4/20\n",
            "168/168 [==============================] - ETA: 0s - loss: 0.5610 - acc: 0.8035\n",
            "Epoch 4: val_acc improved from 0.76562 to 0.82812, saving model to best_mask_model.h5\n",
            "168/168 [==============================] - 69s 410ms/step - loss: 0.5610 - acc: 0.8035 - val_loss: 0.5695 - val_acc: 0.8281\n",
            "Epoch 5/20\n",
            "168/168 [==============================] - ETA: 0s - loss: 0.5261 - acc: 0.8120\n",
            "Epoch 5: val_acc did not improve from 0.82812\n",
            "168/168 [==============================] - 70s 420ms/step - loss: 0.5261 - acc: 0.8120 - val_loss: 0.5808 - val_acc: 0.8125\n",
            "Epoch 6/20\n",
            "168/168 [==============================] - ETA: 0s - loss: 0.4864 - acc: 0.8227\n",
            "Epoch 6: val_acc did not improve from 0.82812\n",
            "168/168 [==============================] - 69s 409ms/step - loss: 0.4864 - acc: 0.8227 - val_loss: 0.9202 - val_acc: 0.7031\n",
            "Epoch 7/20\n",
            "168/168 [==============================] - ETA: 0s - loss: 0.4583 - acc: 0.8303\n",
            "Epoch 7: val_acc did not improve from 0.82812\n",
            "168/168 [==============================] - 70s 414ms/step - loss: 0.4583 - acc: 0.8303 - val_loss: 0.8118 - val_acc: 0.7656\n",
            "Epoch 8/20\n",
            "168/168 [==============================] - ETA: 0s - loss: 0.4291 - acc: 0.8478\n",
            "Epoch 8: val_acc did not improve from 0.82812\n",
            "168/168 [==============================] - 69s 408ms/step - loss: 0.4291 - acc: 0.8478 - val_loss: 0.8541 - val_acc: 0.7188\n",
            "Epoch 9/20\n",
            "168/168 [==============================] - ETA: 0s - loss: 0.4057 - acc: 0.8539\n",
            "Epoch 9: val_acc did not improve from 0.82812\n",
            "168/168 [==============================] - 69s 412ms/step - loss: 0.4057 - acc: 0.8539 - val_loss: 0.9828 - val_acc: 0.6094\n",
            "Epoch 9: early stopping\n"
          ]
        }
      ]
    },
    {
      "cell_type": "markdown",
      "source": [
        "## 7-2 모델 전이 후의 학습과정 시각화"
      ],
      "metadata": {
        "id": "T9WGwKKjXsUv"
      }
    },
    {
      "cell_type": "code",
      "source": [
        "import matplotlib.pyplot as plt\n",
        "\n",
        "his_dict = history.history\n",
        "loss = his_dict['loss']\n",
        "val_loss = his_dict['val_loss'] \n",
        "\n",
        "epochs = range(1, len(loss) + 1)\n",
        "fig = plt.figure(figsize = (10, 5))\n",
        "\n",
        "# 훈련 및 검증 손실 그리기\n",
        "ax1 = fig.add_subplot(1, 2, 1)\n",
        "ax1.plot(epochs, loss, color = 'blue', label = 'train_loss')\n",
        "ax1.plot(epochs, val_loss, color = 'orange', label = 'val_loss')\n",
        "ax1.set_title('train and val loss')\n",
        "ax1.set_xlabel('epochs')\n",
        "ax1.set_ylabel('loss')\n",
        "ax1.legend()\n",
        "\n",
        "acc = his_dict['acc']\n",
        "val_acc = his_dict['val_acc']\n",
        "\n",
        "# 훈련 및 검증 정확도 그리기\n",
        "ax2 = fig.add_subplot(1, 2, 2)\n",
        "ax2.plot(epochs, acc, color = 'blue', label = 'train_acc')\n",
        "ax2.plot(epochs, val_acc, color = 'orange', label = 'val_acc')\n",
        "ax2.set_title('train and val acc')\n",
        "ax2.set_xlabel('epochs')\n",
        "ax2.set_ylabel('acc')\n",
        "ax2.legend()\n",
        "\n",
        "plt.show()"
      ],
      "metadata": {
        "id": "A3AeKsH-WV0P",
        "colab": {
          "base_uri": "https://localhost:8080/",
          "height": 350
        },
        "outputId": "e49cd227-3446-4920-e9b3-6213c2fde5d5"
      },
      "execution_count": 43,
      "outputs": [
        {
          "output_type": "display_data",
          "data": {
            "text/plain": [
              "<Figure size 720x360 with 2 Axes>"
            ],
            "image/png": "[encoded data removed]"
          },
          "metadata": {
            "needs_background": "light"
          }
        }
      ]
    },
    {
      "cell_type": "markdown",
      "source": [
        "과적합이 많이 줄은 것을 볼 수 있습니다."
      ],
      "metadata": {
        "id": "1_eKuzeQ18TE"
      }
    },
    {
      "cell_type": "code",
      "source": [
        "# test_df를 활용하여 test_generator 생성\n",
        "# 단, 여기서는 정확한 평가를 위해 \n",
        "# label를 삭제\n",
        "test_datagen = ImageDataGenerator(rescale= 1./255)\n",
        "\n",
        "test_generator = train_datagen.flow_from_dataframe(\n",
        "    dataframe = test_df,\n",
        "    directory=None,\n",
        "    x_col = 'path',\n",
        "    y_col = None,\n",
        "    target_size = (150, 150),\n",
        "    color_mode = 'rgb',\n",
        "    class_mode = None,\n",
        "    batch_size = batch_size,\n",
        "    shuffle = False)"
      ],
      "metadata": {
        "colab": {
          "base_uri": "https://localhost:8080/"
        },
        "id": "CSKM0C_ZyCmV",
        "outputId": "7a8a5dc4-8272-4f08-a1b9-889026df5531"
      },
      "execution_count": 50,
      "outputs": [
        {
          "output_type": "stream",
          "name": "stdout",
          "text": [
            "Found 2003 validated image filenames.\n"
          ]
        }
      ]
    },
    {
      "cell_type": "code",
      "source": [
        "def get_steps(num_samples, batch_size):\n",
        "  if(num_samples % batch_size) > 0:\n",
        "    return(num_samples // batch_size) +1\n",
        "  else :\n",
        "    return num_samples // batch_size"
      ],
      "metadata": {
        "id": "hbrthuYFySqc"
      },
      "execution_count": 51,
      "outputs": []
    },
    {
      "cell_type": "code",
      "source": [
        "# 예측 모델 만들기\n",
        "batch_size=32\n",
        "preds = model.predict(test_generator,\n",
        "                      steps = get_steps(len(test_df), batch_size),\n",
        "                      verbose=1)"
      ],
      "metadata": {
        "colab": {
          "base_uri": "https://localhost:8080/"
        },
        "id": "qeydyCSryG2d",
        "outputId": "0f887391-af28-4d30-9907-290307c19640"
      },
      "execution_count": 52,
      "outputs": [
        {
          "output_type": "stream",
          "name": "stdout",
          "text": [
            "63/63 [==============================] - 26s 414ms/step\n"
          ]
        }
      ]
    },
    {
      "cell_type": "code",
      "source": [
        "preds.shape"
      ],
      "metadata": {
        "colab": {
          "base_uri": "https://localhost:8080/"
        },
        "id": "YfvBvPllyXNV",
        "outputId": "49717094-b613-45c3-e97d-599d03e4b4f3"
      },
      "execution_count": 53,
      "outputs": [
        {
          "output_type": "execute_result",
          "data": {
            "text/plain": [
              "(2003, 7)"
            ]
          },
          "metadata": {},
          "execution_count": 53
        }
      ]
    },
    {
      "cell_type": "code",
      "source": [
        "preds[0]"
      ],
      "metadata": {
        "colab": {
          "base_uri": "https://localhost:8080/"
        },
        "id": "6exv-qnYycZN",
        "outputId": "1bc839e4-b965-4671-9ab5-cb27aa51d70f"
      },
      "execution_count": 54,
      "outputs": [
        {
          "output_type": "execute_result",
          "data": {
            "text/plain": [
              "array([2.1658736e-04, 1.3911253e-03, 1.1428093e-03, 5.2024925e-04,\n",
              "       1.7767547e-04, 9.9507266e-01, 1.4788960e-03], dtype=float32)"
            ]
          },
          "metadata": {},
          "execution_count": 54
        }
      ]
    },
    {
      "cell_type": "code",
      "source": [
        "prob = zip(class_col, list(preds[1]))\n",
        "prob"
      ],
      "metadata": {
        "colab": {
          "base_uri": "https://localhost:8080/"
        },
        "id": "HQHgLLnpzR4c",
        "outputId": "23dd4474-a0dd-460f-a2a8-86c23fe1d8c5"
      },
      "execution_count": 56,
      "outputs": [
        {
          "output_type": "execute_result",
          "data": {
            "text/plain": [
              "<zip at 0x7fd9d8cce140>"
            ]
          },
          "metadata": {},
          "execution_count": 56
        }
      ]
    },
    {
      "cell_type": "code",
      "source": [
        "sorted(list(prob), key = lambda z: z[1], reverse = True)"
      ],
      "metadata": {
        "colab": {
          "base_uri": "https://localhost:8080/"
        },
        "id": "UvSoneAnydKF",
        "outputId": "8259d95b-a2c1-48c9-8860-d00eb1ce28d5"
      },
      "execution_count": 57,
      "outputs": [
        {
          "output_type": "execute_result",
          "data": {
            "text/plain": [
              "[('nv', 0.8537095),\n",
              " ('vasc', 0.1139648),\n",
              " ('mel', 0.020139385),\n",
              " ('bkl', 0.010296681),\n",
              " ('df', 0.0011538253),\n",
              " ('akiec', 0.00039982348),\n",
              " ('bcc', 0.00033597864)]"
            ]
          },
          "metadata": {},
          "execution_count": 57
        }
      ]
    },
    {
      "cell_type": "code",
      "source": [
        "test_df"
      ],
      "metadata": {
        "colab": {
          "base_uri": "https://localhost:8080/",
          "height": 424
        },
        "id": "ClRYuhYhz5Z0",
        "outputId": "ab897627-9c69-4faa-d8cf-90a3a457875c"
      },
      "execution_count": 60,
      "outputs": [
        {
          "output_type": "execute_result",
          "data": {
            "text/plain": [
              "      akiec  bcc  bkl   df  mel   nv  vasc  \\\n",
              "3025    0.0  0.0  0.0  0.0  0.0  1.0   0.0   \n",
              "2399    0.0  0.0  0.0  0.0  0.0  0.0   1.0   \n",
              "439     0.0  0.0  1.0  0.0  0.0  0.0   0.0   \n",
              "1012    0.0  0.0  1.0  0.0  0.0  0.0   0.0   \n",
              "2748    0.0  1.0  0.0  0.0  0.0  0.0   0.0   \n",
              "...     ...  ...  ...  ...  ...  ...   ...   \n",
              "3087    0.0  0.0  0.0  0.0  0.0  1.0   0.0   \n",
              "3601    0.0  0.0  0.0  0.0  0.0  1.0   0.0   \n",
              "2530    0.0  1.0  0.0  0.0  0.0  0.0   0.0   \n",
              "98      0.0  0.0  1.0  0.0  0.0  0.0   0.0   \n",
              "6016    0.0  0.0  0.0  0.0  0.0  1.0   0.0   \n",
              "\n",
              "                                                  path  \n",
              "3025  /content/ham10000_images_part_1/ISIC_0028298.jpg  \n",
              "2399  /content/ham10000_images_part_1/ISIC_0027256.jpg  \n",
              "439   /content/ham10000_images_part_1/ISIC_0026714.jpg  \n",
              "1012  /content/ham10000_images_part_1/ISIC_0028587.jpg  \n",
              "2748  /content/ham10000_images_part_1/ISIC_0026855.jpg  \n",
              "...                                                ...  \n",
              "3087  /content/ham10000_images_part_2/ISIC_0030918.jpg  \n",
              "3601  /content/ham10000_images_part_1/ISIC_0028836.jpg  \n",
              "2530  /content/ham10000_images_part_2/ISIC_0030766.jpg  \n",
              "98    /content/ham10000_images_part_1/ISIC_0028080.jpg  \n",
              "6016  /content/ham10000_images_part_2/ISIC_0030997.jpg  \n",
              "\n",
              "[2003 rows x 8 columns]"
            ],
            "text/html": [
              "\n",
              "  <div id=\"df-3270d4ad-dbed-46fa-ae6f-89118e98d709\">\n",
              "    <div class=\"colab-df-container\">\n",
              "      <div>\n",
              "<style scoped>\n",
              "    .dataframe tbody tr th:only-of-type {\n",
              "        vertical-align: middle;\n",
              "    }\n",
              "\n",
              "    .dataframe tbody tr th {\n",
              "        vertical-align: top;\n",
              "    }\n",
              "\n",
              "    .dataframe thead th {\n",
              "        text-align: right;\n",
              "    }\n",
              "</style>\n",
              "<table border=\"1\" class=\"dataframe\">\n",
              "  <thead>\n",
              "    <tr style=\"text-align: right;\">\n",
              "      <th></th>\n",
              "      <th>akiec</th>\n",
              "      <th>bcc</th>\n",
              "      <th>bkl</th>\n",
              "      <th>df</th>\n",
              "      <th>mel</th>\n",
              "      <th>nv</th>\n",
              "      <th>vasc</th>\n",
              "      <th>path</th>\n",
              "    </tr>\n",
              "  </thead>\n",
              "  <tbody>\n",
              "    <tr>\n",
              "      <th>3025</th>\n",
              "      <td>0.0</td>\n",
              "      <td>0.0</td>\n",
              "      <td>0.0</td>\n",
              "      <td>0.0</td>\n",
              "      <td>0.0</td>\n",
              "      <td>1.0</td>\n",
              "      <td>0.0</td>\n",
              "      <td>/content/ham10000_images_part_1/ISIC_0028298.jpg</td>\n",
              "    </tr>\n",
              "    <tr>\n",
              "      <th>2399</th>\n",
              "      <td>0.0</td>\n",
              "      <td>0.0</td>\n",
              "      <td>0.0</td>\n",
              "      <td>0.0</td>\n",
              "      <td>0.0</td>\n",
              "      <td>0.0</td>\n",
              "      <td>1.0</td>\n",
              "      <td>/content/ham10000_images_part_1/ISIC_0027256.jpg</td>\n",
              "    </tr>\n",
              "    <tr>\n",
              "      <th>439</th>\n",
              "      <td>0.0</td>\n",
              "      <td>0.0</td>\n",
              "      <td>1.0</td>\n",
              "      <td>0.0</td>\n",
              "      <td>0.0</td>\n",
              "      <td>0.0</td>\n",
              "      <td>0.0</td>\n",
              "      <td>/content/ham10000_images_part_1/ISIC_0026714.jpg</td>\n",
              "    </tr>\n",
              "    <tr>\n",
              "      <th>1012</th>\n",
              "      <td>0.0</td>\n",
              "      <td>0.0</td>\n",
              "      <td>1.0</td>\n",
              "      <td>0.0</td>\n",
              "      <td>0.0</td>\n",
              "      <td>0.0</td>\n",
              "      <td>0.0</td>\n",
              "      <td>/content/ham10000_images_part_1/ISIC_0028587.jpg</td>\n",
              "    </tr>\n",
              "    <tr>\n",
              "      <th>2748</th>\n",
              "      <td>0.0</td>\n",
              "      <td>1.0</td>\n",
              "      <td>0.0</td>\n",
              "      <td>0.0</td>\n",
              "      <td>0.0</td>\n",
              "      <td>0.0</td>\n",
              "      <td>0.0</td>\n",
              "      <td>/content/ham10000_images_part_1/ISIC_0026855.jpg</td>\n",
              "    </tr>\n",
              "    <tr>\n",
              "      <th>...</th>\n",
              "      <td>...</td>\n",
              "      <td>...</td>\n",
              "      <td>...</td>\n",
              "      <td>...</td>\n",
              "      <td>...</td>\n",
              "      <td>...</td>\n",
              "      <td>...</td>\n",
              "      <td>...</td>\n",
              "    </tr>\n",
              "    <tr>\n",
              "      <th>3087</th>\n",
              "      <td>0.0</td>\n",
              "      <td>0.0</td>\n",
              "      <td>0.0</td>\n",
              "      <td>0.0</td>\n",
              "      <td>0.0</td>\n",
              "      <td>1.0</td>\n",
              "      <td>0.0</td>\n",
              "      <td>/content/ham10000_images_part_2/ISIC_0030918.jpg</td>\n",
              "    </tr>\n",
              "    <tr>\n",
              "      <th>3601</th>\n",
              "      <td>0.0</td>\n",
              "      <td>0.0</td>\n",
              "      <td>0.0</td>\n",
              "      <td>0.0</td>\n",
              "      <td>0.0</td>\n",
              "      <td>1.0</td>\n",
              "      <td>0.0</td>\n",
              "      <td>/content/ham10000_images_part_1/ISIC_0028836.jpg</td>\n",
              "    </tr>\n",
              "    <tr>\n",
              "      <th>2530</th>\n",
              "      <td>0.0</td>\n",
              "      <td>1.0</td>\n",
              "      <td>0.0</td>\n",
              "      <td>0.0</td>\n",
              "      <td>0.0</td>\n",
              "      <td>0.0</td>\n",
              "      <td>0.0</td>\n",
              "      <td>/content/ham10000_images_part_2/ISIC_0030766.jpg</td>\n",
              "    </tr>\n",
              "    <tr>\n",
              "      <th>98</th>\n",
              "      <td>0.0</td>\n",
              "      <td>0.0</td>\n",
              "      <td>1.0</td>\n",
              "      <td>0.0</td>\n",
              "      <td>0.0</td>\n",
              "      <td>0.0</td>\n",
              "      <td>0.0</td>\n",
              "      <td>/content/ham10000_images_part_1/ISIC_0028080.jpg</td>\n",
              "    </tr>\n",
              "    <tr>\n",
              "      <th>6016</th>\n",
              "      <td>0.0</td>\n",
              "      <td>0.0</td>\n",
              "      <td>0.0</td>\n",
              "      <td>0.0</td>\n",
              "      <td>0.0</td>\n",
              "      <td>1.0</td>\n",
              "      <td>0.0</td>\n",
              "      <td>/content/ham10000_images_part_2/ISIC_0030997.jpg</td>\n",
              "    </tr>\n",
              "  </tbody>\n",
              "</table>\n",
              "<p>2003 rows × 8 columns</p>\n",
              "</div>\n",
              "      <button class=\"colab-df-convert\" onclick=\"convertToInteractive('df-3270d4ad-dbed-46fa-ae6f-89118e98d709')\"\n",
              "              title=\"Convert this dataframe to an interactive table.\"\n",
              "              style=\"display:none;\">\n",
              "        \n",
              "  <svg xmlns=\"http://www.w3.org/2000/svg\" height=\"24px\"viewBox=\"0 0 24 24\"\n",
              "       width=\"24px\">\n",
              "    <path d=\"M0 0h24v24H0V0z\" fill=\"none\"/>\n",
              "    <path d=\"M18.56 5.44l.94 2.06.94-2.06 2.06-.94-2.06-.94-.94-2.06-.94 2.06-2.06.94zm-11 1L8.5 8.5l.94-2.06 2.06-.94-2.06-.94L8.5 2.5l-.94 2.06-2.06.94zm10 10l.94 2.06.94-2.06 2.06-.94-2.06-.94-.94-2.06-.94 2.06-2.06.94z\"/><path d=\"M17.41 7.96l-1.37-1.37c-.4-.4-.92-.59-1.43-.59-.52 0-1.04.2-1.43.59L10.3 9.45l-7.72 7.72c-.78.78-.78 2.05 0 2.83L4 21.41c.39.39.9.59 1.41.59.51 0 1.02-.2 1.41-.59l7.78-7.78 2.81-2.81c.8-.78.8-2.07 0-2.86zM5.41 20L4 18.59l7.72-7.72 1.47 1.35L5.41 20z\"/>\n",
              "  </svg>\n",
              "      </button>\n",
              "      \n",
              "  <style>\n",
              "    .colab-df-container {\n",
              "      display:flex;\n",
              "      flex-wrap:wrap;\n",
              "      gap: 12px;\n",
              "    }\n",
              "\n",
              "    .colab-df-convert {\n",
              "      background-color: #E8F0FE;\n",
              "      border: none;\n",
              "      border-radius: 50%;\n",
              "      cursor: pointer;\n",
              "      display: none;\n",
              "      fill: #1967D2;\n",
              "      height: 32px;\n",
              "      padding: 0 0 0 0;\n",
              "      width: 32px;\n",
              "    }\n",
              "\n",
              "    .colab-df-convert:hover {\n",
              "      background-color: #E2EBFA;\n",
              "      box-shadow: 0px 1px 2px rgba(60, 64, 67, 0.3), 0px 1px 3px 1px rgba(60, 64, 67, 0.15);\n",
              "      fill: #174EA6;\n",
              "    }\n",
              "\n",
              "    [theme=dark] .colab-df-convert {\n",
              "      background-color: #3B4455;\n",
              "      fill: #D2E3FC;\n",
              "    }\n",
              "\n",
              "    [theme=dark] .colab-df-convert:hover {\n",
              "      background-color: #434B5C;\n",
              "      box-shadow: 0px 1px 3px 1px rgba(0, 0, 0, 0.15);\n",
              "      filter: drop-shadow(0px 1px 2px rgba(0, 0, 0, 0.3));\n",
              "      fill: #FFFFFF;\n",
              "    }\n",
              "  </style>\n",
              "\n",
              "      <script>\n",
              "        const buttonEl =\n",
              "          document.querySelector('#df-3270d4ad-dbed-46fa-ae6f-89118e98d709 button.colab-df-convert');\n",
              "        buttonEl.style.display =\n",
              "          google.colab.kernel.accessAllowed ? 'block' : 'none';\n",
              "\n",
              "        async function convertToInteractive(key) {\n",
              "          const element = document.querySelector('#df-3270d4ad-dbed-46fa-ae6f-89118e98d709');\n",
              "          const dataTable =\n",
              "            await google.colab.kernel.invokeFunction('convertToInteractive',\n",
              "                                                     [key], {});\n",
              "          if (!dataTable) return;\n",
              "\n",
              "          const docLinkHtml = 'Like what you see? Visit the ' +\n",
              "            '<a target=\"_blank\" href=https://colab.research.google.com/notebooks/data_table.ipynb>data table notebook</a>'\n",
              "            + ' to learn more about interactive tables.';\n",
              "          element.innerHTML = '';\n",
              "          dataTable['output_type'] = 'display_data';\n",
              "          await google.colab.output.renderOutput(dataTable, element);\n",
              "          const docLink = document.createElement('div');\n",
              "          docLink.innerHTML = docLinkHtml;\n",
              "          element.appendChild(docLink);\n",
              "        }\n",
              "      </script>\n",
              "    </div>\n",
              "  </div>\n",
              "  "
            ]
          },
          "metadata": {},
          "execution_count": 60
        }
      ]
    },
    {
      "cell_type": "code",
      "source": [
        "#모델 평가 시각화\n",
        "\n",
        "import cv2\n",
        "do_preds = preds[:7]\n",
        "\n",
        "for i, pred in enumerate(do_preds):\n",
        "  plt.subplot(2, 4, i + 1)\n",
        "  prob = zip(class_col, list(pred))\n",
        "  prob = sorted(list(prob), key = lambda z:z[1], reverse = True)[:2]\n",
        "\n",
        "  image = cv2.imread(test_df.iloc[i]['path'])\n",
        "  image = cv2.cvtColor(image, cv2.COLOR_BGR2RGB)\n",
        "\n",
        "  plt.imshow(image)\n",
        "  plt.title(f'{prob[0]}:\\n {round(prob[0][1] *100, 2)}%')\n",
        "\n",
        "plt.tight_layout()"
      ],
      "metadata": {
        "colab": {
          "base_uri": "https://localhost:8080/",
          "height": 248
        },
        "id": "z2SjNqHrzOwm",
        "outputId": "a44f8e2a-37d7-4ef6-a492-9726a6ea8a70"
      },
      "execution_count": 64,
      "outputs": [
        {
          "output_type": "display_data",
          "data": {
            "text/plain": [
              "<Figure size 432x288 with 7 Axes>"
            ],
            "image/png": "[encoded data removed]"
          },
          "metadata": {
            "needs_background": "light"
          }
        }
      ]
    }
  ]
}